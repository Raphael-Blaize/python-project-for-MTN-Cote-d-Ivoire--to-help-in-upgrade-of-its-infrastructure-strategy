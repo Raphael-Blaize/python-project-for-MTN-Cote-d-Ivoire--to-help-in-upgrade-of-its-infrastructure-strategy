{
  "nbformat": 4,
  "nbformat_minor": 0,
  "metadata": {
    "colab": {
      "name": "Raph's MTN Cote d'Ivoire cleaning and analysis.ipynb",
      "provenance": [],
      "collapsed_sections": [],
      "toc_visible": true,
      "authorship_tag": "ABX9TyPx18wkSSKLenIV6T1s2/+y",
      "include_colab_link": true
    },
    "kernelspec": {
      "name": "python3",
      "display_name": "Python 3"
    },
    "language_info": {
      "name": "python"
    }
  },
  "cells": [
    {
      "cell_type": "markdown",
      "metadata": {
        "id": "view-in-github",
        "colab_type": "text"
      },
      "source": [
        "<a href=\"https://colab.research.google.com/github/Raphael-Blaize/python-project-for-MTN-Cote-d-Ivoire--to-help-in-upgrade-of-its-infrastructure-strategy/blob/main/Raph's_MTN_Cote_d'Ivoire_cleaning_and_analysis.ipynb\" target=\"_parent\"><img src=\"https://colab.research.google.com/assets/colab-badge.svg\" alt=\"Open In Colab\"/></a>"
      ]
    },
    {
      "cell_type": "markdown",
      "metadata": {
        "id": "9gXfuwwD2dhE"
      },
      "source": [
        "MTN Cote d'Ivoire would like to upgrade its technology infrastructure for its mobile users in Ivory Coast. Studying the given dataset, how does MTN Cote d'Ivoire go about the upgrade of its infrastructure strategy within the given cities?\n",
        "\n",
        "\n",
        "\n"
      ]
    },
    {
      "cell_type": "markdown",
      "metadata": {
        "id": "qbM-FwmA-16g"
      },
      "source": [
        "# IMPORTING THE DATASETS INTO THE ENVIRONMENT "
      ]
    },
    {
      "cell_type": "code",
      "metadata": {
        "colab": {
          "base_uri": "https://localhost:8080/",
          "height": 532
        },
        "id": "P5zPZoRQ2jMz",
        "outputId": "882c7eb8-79ce-49e8-c5d3-7fc7d811441e"
      },
      "source": [
        "import pandas as pd\n",
        "import numpy as np\n",
        "\n",
        "\n",
        "#Importing my cells_geo dataset, seprating by (;) with index_col set to zero in-order to pick the column names as they\n",
        "#are in the original dataset\n",
        "geo= pd.read_csv(\"cells_geo.csv\", delimiter=\";\", index_col=0)\n",
        "geo\n",
        "\n",
        "#choosing 10 values\n",
        "geo.head(10)"
      ],
      "execution_count": 1,
      "outputs": [
        {
          "output_type": "execute_result",
          "data": {
            "text/html": [
              "<div>\n",
              "<style scoped>\n",
              "    .dataframe tbody tr th:only-of-type {\n",
              "        vertical-align: middle;\n",
              "    }\n",
              "\n",
              "    .dataframe tbody tr th {\n",
              "        vertical-align: top;\n",
              "    }\n",
              "\n",
              "    .dataframe thead th {\n",
              "        text-align: right;\n",
              "    }\n",
              "</style>\n",
              "<table border=\"1\" class=\"dataframe\">\n",
              "  <thead>\n",
              "    <tr style=\"text-align: right;\">\n",
              "      <th></th>\n",
              "      <th>VILLES</th>\n",
              "      <th>STATUS</th>\n",
              "      <th>LOCALISATION</th>\n",
              "      <th>DECOUPZONE</th>\n",
              "      <th>ZONENAME</th>\n",
              "      <th>LONGITUDE</th>\n",
              "      <th>LATITUDE</th>\n",
              "      <th>REGION</th>\n",
              "      <th>AREA</th>\n",
              "      <th>CELL_ID</th>\n",
              "      <th>SITE_CODE</th>\n",
              "    </tr>\n",
              "  </thead>\n",
              "  <tbody>\n",
              "    <tr>\n",
              "      <th>0</th>\n",
              "      <td>ADJAME</td>\n",
              "      <td>In Service</td>\n",
              "      <td>ABIDJAN</td>\n",
              "      <td>\"Abidjan_EST</td>\n",
              "      <td>AGBANNEW</td>\n",
              "      <td>-4.000667</td>\n",
              "      <td>5.368194</td>\n",
              "      <td>LAGUNE</td>\n",
              "      <td>NaN</td>\n",
              "      <td>fbb2e75af3</td>\n",
              "      <td>0bb492ef17</td>\n",
              "    </tr>\n",
              "    <tr>\n",
              "      <th>1</th>\n",
              "      <td>ADJAME</td>\n",
              "      <td>In Service</td>\n",
              "      <td>ABIDJAN</td>\n",
              "      <td>\"Abidjan_EST</td>\n",
              "      <td>AGBANNEW</td>\n",
              "      <td>-4.000667</td>\n",
              "      <td>5.368194</td>\n",
              "      <td>LAGUNE</td>\n",
              "      <td>NaN</td>\n",
              "      <td>1502501d78</td>\n",
              "      <td>0bb492ef17</td>\n",
              "    </tr>\n",
              "    <tr>\n",
              "      <th>2</th>\n",
              "      <td>ADJAME</td>\n",
              "      <td>In Service</td>\n",
              "      <td>ABIDJAN</td>\n",
              "      <td>\"Abidjan_EST</td>\n",
              "      <td>AGBANNEW</td>\n",
              "      <td>-4.000667</td>\n",
              "      <td>5.368194</td>\n",
              "      <td>LAGUNE</td>\n",
              "      <td>NaN</td>\n",
              "      <td>0c2e182a0c</td>\n",
              "      <td>0bb492ef17</td>\n",
              "    </tr>\n",
              "    <tr>\n",
              "      <th>3</th>\n",
              "      <td>ASSINIE</td>\n",
              "      <td>In Service</td>\n",
              "      <td>INTERIEUR</td>\n",
              "      <td>Grand-EST</td>\n",
              "      <td>ASSINIE\"</td>\n",
              "      <td>-3.488467</td>\n",
              "      <td>5.158761</td>\n",
              "      <td>SUD COMOE</td>\n",
              "      <td>NaN</td>\n",
              "      <td>69bdfc69fd</td>\n",
              "      <td>8a1e6ce31f</td>\n",
              "    </tr>\n",
              "    <tr>\n",
              "      <th>4</th>\n",
              "      <td>ASSINIE</td>\n",
              "      <td>In Service</td>\n",
              "      <td>INTERIEUR</td>\n",
              "      <td>Grand-EST</td>\n",
              "      <td>ASSINIE\"</td>\n",
              "      <td>-3.488467</td>\n",
              "      <td>5.158761</td>\n",
              "      <td>SUD COMOE</td>\n",
              "      <td>NaN</td>\n",
              "      <td>7a1029d2ab</td>\n",
              "      <td>8a1e6ce31f</td>\n",
              "    </tr>\n",
              "    <tr>\n",
              "      <th>5</th>\n",
              "      <td>ASSINIE</td>\n",
              "      <td>In Service</td>\n",
              "      <td>INTERIEUR</td>\n",
              "      <td>Grand-EST</td>\n",
              "      <td>ASSINIE\"</td>\n",
              "      <td>-3.488467</td>\n",
              "      <td>5.158761</td>\n",
              "      <td>SUD COMOE</td>\n",
              "      <td>NaN</td>\n",
              "      <td>0b4f56438f</td>\n",
              "      <td>8a1e6ce31f</td>\n",
              "    </tr>\n",
              "    <tr>\n",
              "      <th>6</th>\n",
              "      <td>KRIKOREA</td>\n",
              "      <td>In Service</td>\n",
              "      <td>INTERIEUR</td>\n",
              "      <td>Grand-OUEST</td>\n",
              "      <td>KRIKOREA\"</td>\n",
              "      <td>-6.627056</td>\n",
              "      <td>6.707361</td>\n",
              "      <td>HAUT SASSANDRA</td>\n",
              "      <td>NaN</td>\n",
              "      <td>041d2504f5</td>\n",
              "      <td>260dbfedc5</td>\n",
              "    </tr>\n",
              "    <tr>\n",
              "      <th>7</th>\n",
              "      <td>ABOBO</td>\n",
              "      <td>In Service</td>\n",
              "      <td>ABIDJAN</td>\n",
              "      <td>\"Abidjan_NORD</td>\n",
              "      <td>NPONON</td>\n",
              "      <td>-4.023583</td>\n",
              "      <td>5.435694</td>\n",
              "      <td>LAGUNE</td>\n",
              "      <td>NaN</td>\n",
              "      <td>a70c1d263b</td>\n",
              "      <td>56306cc7ca</td>\n",
              "    </tr>\n",
              "    <tr>\n",
              "      <th>8</th>\n",
              "      <td>ABOBO</td>\n",
              "      <td>In Service</td>\n",
              "      <td>ABIDJAN</td>\n",
              "      <td>\"Abidjan_NORD</td>\n",
              "      <td>NPONON</td>\n",
              "      <td>-4.023583</td>\n",
              "      <td>5.435694</td>\n",
              "      <td>LAGUNE</td>\n",
              "      <td>NaN</td>\n",
              "      <td>e2d04ea883</td>\n",
              "      <td>56306cc7ca</td>\n",
              "    </tr>\n",
              "    <tr>\n",
              "      <th>9</th>\n",
              "      <td>ABOBO</td>\n",
              "      <td>NaN</td>\n",
              "      <td>ABIDJAN</td>\n",
              "      <td>\"Abidjan_NORD</td>\n",
              "      <td>NPONON</td>\n",
              "      <td>-4.023583</td>\n",
              "      <td>5.435694</td>\n",
              "      <td>LAGUNE</td>\n",
              "      <td>NaN</td>\n",
              "      <td>ee224cd27e</td>\n",
              "      <td>56306cc7ca</td>\n",
              "    </tr>\n",
              "  </tbody>\n",
              "</table>\n",
              "</div>"
            ],
            "text/plain": [
              "     VILLES      STATUS LOCALISATION  ... AREA     CELL_ID   SITE_CODE\n",
              "0    ADJAME  In Service      ABIDJAN  ...  NaN  fbb2e75af3  0bb492ef17\n",
              "1    ADJAME  In Service      ABIDJAN  ...  NaN  1502501d78  0bb492ef17\n",
              "2    ADJAME  In Service      ABIDJAN  ...  NaN  0c2e182a0c  0bb492ef17\n",
              "3   ASSINIE  In Service    INTERIEUR  ...  NaN  69bdfc69fd  8a1e6ce31f\n",
              "4   ASSINIE  In Service    INTERIEUR  ...  NaN  7a1029d2ab  8a1e6ce31f\n",
              "5   ASSINIE  In Service    INTERIEUR  ...  NaN  0b4f56438f  8a1e6ce31f\n",
              "6  KRIKOREA  In Service    INTERIEUR  ...  NaN  041d2504f5  260dbfedc5\n",
              "7     ABOBO  In Service      ABIDJAN  ...  NaN  a70c1d263b  56306cc7ca\n",
              "8     ABOBO  In Service      ABIDJAN  ...  NaN  e2d04ea883  56306cc7ca\n",
              "9     ABOBO         NaN      ABIDJAN  ...  NaN  ee224cd27e  56306cc7ca\n",
              "\n",
              "[10 rows x 11 columns]"
            ]
          },
          "metadata": {
            "tags": []
          },
          "execution_count": 1
        }
      ]
    },
    {
      "cell_type": "code",
      "metadata": {
        "colab": {
          "base_uri": "https://localhost:8080/",
          "height": 719
        },
        "id": "XVdlcU8yBcWT",
        "outputId": "c0a45cec-2eff-4da2-93ae-bd9d7efe4dc8"
      },
      "source": [
        "#Importing my Telcom 1 Dataset\n",
        "Tel1= pd.read_csv(\"Telcom_dataset.csv\")\n",
        "Tel1\n",
        "\n",
        "#choosing the first 10 \n",
        "Tel1.head(10)"
      ],
      "execution_count": 2,
      "outputs": [
        {
          "output_type": "execute_result",
          "data": {
            "text/html": [
              "<div>\n",
              "<style scoped>\n",
              "    .dataframe tbody tr th:only-of-type {\n",
              "        vertical-align: middle;\n",
              "    }\n",
              "\n",
              "    .dataframe tbody tr th {\n",
              "        vertical-align: top;\n",
              "    }\n",
              "\n",
              "    .dataframe thead th {\n",
              "        text-align: right;\n",
              "    }\n",
              "</style>\n",
              "<table border=\"1\" class=\"dataframe\">\n",
              "  <thead>\n",
              "    <tr style=\"text-align: right;\">\n",
              "      <th></th>\n",
              "      <th>PRODUTC</th>\n",
              "      <th>VALUE</th>\n",
              "      <th>DATETIME</th>\n",
              "      <th>CELL_ON_SITE</th>\n",
              "      <th>DW_A_NUMBER_INT</th>\n",
              "      <th>DW_B_NUMBER_INT</th>\n",
              "      <th>COUNTRY_A</th>\n",
              "      <th>COUNTRY_B</th>\n",
              "      <th>CELL_ID</th>\n",
              "      <th>SITE_ID</th>\n",
              "    </tr>\n",
              "  </thead>\n",
              "  <tbody>\n",
              "    <tr>\n",
              "      <th>0</th>\n",
              "      <td>Voice</td>\n",
              "      <td>0</td>\n",
              "      <td>2012-05-06 23:04:37.0</td>\n",
              "      <td>1</td>\n",
              "      <td>49fae048b547780</td>\n",
              "      <td>1a49f8b0ded9de6</td>\n",
              "      <td>19e2e</td>\n",
              "      <td>19e2e</td>\n",
              "      <td>/TJNe+Mmtu</td>\n",
              "      <td>/TJNe+Mmtu</td>\n",
              "    </tr>\n",
              "    <tr>\n",
              "      <th>1</th>\n",
              "      <td>sms</td>\n",
              "      <td>0</td>\n",
              "      <td>2012-05-06 23:05:25.0</td>\n",
              "      <td>0</td>\n",
              "      <td>7a54a6eaee19e65</td>\n",
              "      <td>93343ba6e41af95</td>\n",
              "      <td>19e2e</td>\n",
              "      <td>19e2e</td>\n",
              "      <td>/+cKZKIp41</td>\n",
              "      <td>/+cKZKIp41</td>\n",
              "    </tr>\n",
              "    <tr>\n",
              "      <th>2</th>\n",
              "      <td>sms</td>\n",
              "      <td>25</td>\n",
              "      <td>2012-05-06 23:05:41.0</td>\n",
              "      <td>0</td>\n",
              "      <td>6008887b0207d82</td>\n",
              "      <td>7aacc9709ce0a20</td>\n",
              "      <td>19e2e</td>\n",
              "      <td>19e2e</td>\n",
              "      <td>/u0FSD+ahi</td>\n",
              "      <td>/u0FSD+ahi</td>\n",
              "    </tr>\n",
              "    <tr>\n",
              "      <th>3</th>\n",
              "      <td>Voice</td>\n",
              "      <td>56</td>\n",
              "      <td>2012-05-06 23:05:42.0</td>\n",
              "      <td>1</td>\n",
              "      <td>7370032e20f4e96</td>\n",
              "      <td>6af4a60e74c91d3</td>\n",
              "      <td>19e2e</td>\n",
              "      <td>19e2e</td>\n",
              "      <td>+cNeJzsTp3</td>\n",
              "      <td>+cNeJzsTp3</td>\n",
              "    </tr>\n",
              "    <tr>\n",
              "      <th>4</th>\n",
              "      <td>Voice</td>\n",
              "      <td>14</td>\n",
              "      <td>2012-05-06 23:06:29.0</td>\n",
              "      <td>1</td>\n",
              "      <td>966ba4656e38e62</td>\n",
              "      <td>02aa736ee555d5c</td>\n",
              "      <td>19e2e</td>\n",
              "      <td>19e2e</td>\n",
              "      <td>051KhYDCpv</td>\n",
              "      <td>051KhYDCpv</td>\n",
              "    </tr>\n",
              "    <tr>\n",
              "      <th>5</th>\n",
              "      <td>data</td>\n",
              "      <td>0</td>\n",
              "      <td>2012-05-06 23:07:26.0</td>\n",
              "      <td>_</td>\n",
              "      <td>f71825ca6e623f9</td>\n",
              "      <td>5a4dc9e82deb309</td>\n",
              "      <td>19e2e</td>\n",
              "      <td>OTHER</td>\n",
              "      <td>/lrUXVGVcN</td>\n",
              "      <td>/lrUXVGVcN</td>\n",
              "    </tr>\n",
              "    <tr>\n",
              "      <th>6</th>\n",
              "      <td>Voice</td>\n",
              "      <td>0</td>\n",
              "      <td>2012-05-06 23:08:02.0</td>\n",
              "      <td>1</td>\n",
              "      <td>4afd7d5af21b1ce</td>\n",
              "      <td>67bf1ac30e58e2f</td>\n",
              "      <td>19e2e</td>\n",
              "      <td>19e2e</td>\n",
              "      <td>+38u2u/rfx</td>\n",
              "      <td>+38u2u/rfx</td>\n",
              "    </tr>\n",
              "    <tr>\n",
              "      <th>7</th>\n",
              "      <td>Voice</td>\n",
              "      <td>0</td>\n",
              "      <td>2012-05-06 23:08:03.0</td>\n",
              "      <td>5</td>\n",
              "      <td>d717dee81c51389</td>\n",
              "      <td>adde5afd9a67b10</td>\n",
              "      <td>19e2e</td>\n",
              "      <td>19e2e</td>\n",
              "      <td>09UjmmY1Ds</td>\n",
              "      <td>09UjmmY1Ds</td>\n",
              "    </tr>\n",
              "    <tr>\n",
              "      <th>8</th>\n",
              "      <td>Voice</td>\n",
              "      <td>0</td>\n",
              "      <td>2012-05-06 23:08:05.0</td>\n",
              "      <td>1</td>\n",
              "      <td>44522aefdc918a6</td>\n",
              "      <td>19e68e80103885e</td>\n",
              "      <td>19e2e</td>\n",
              "      <td>19e2e</td>\n",
              "      <td>0DeimCpZOc</td>\n",
              "      <td>0DeimCpZOc</td>\n",
              "    </tr>\n",
              "    <tr>\n",
              "      <th>9</th>\n",
              "      <td>sms</td>\n",
              "      <td>0</td>\n",
              "      <td>2012-05-06 23:08:43.0</td>\n",
              "      <td>0</td>\n",
              "      <td>0763a571d24db64</td>\n",
              "      <td>f773694c00c74d2</td>\n",
              "      <td>19e2e</td>\n",
              "      <td>19e2e</td>\n",
              "      <td>01MDiY5F89</td>\n",
              "      <td>01MDiY5F89</td>\n",
              "    </tr>\n",
              "  </tbody>\n",
              "</table>\n",
              "</div>"
            ],
            "text/plain": [
              "  PRODUTC  VALUE               DATETIME  ... COUNTRY_B     CELL_ID     SITE_ID\n",
              "0   Voice      0  2012-05-06 23:04:37.0  ...     19e2e  /TJNe+Mmtu  /TJNe+Mmtu\n",
              "1     sms      0  2012-05-06 23:05:25.0  ...     19e2e  /+cKZKIp41  /+cKZKIp41\n",
              "2     sms     25  2012-05-06 23:05:41.0  ...     19e2e  /u0FSD+ahi  /u0FSD+ahi\n",
              "3   Voice     56  2012-05-06 23:05:42.0  ...     19e2e  +cNeJzsTp3  +cNeJzsTp3\n",
              "4   Voice     14  2012-05-06 23:06:29.0  ...     19e2e  051KhYDCpv  051KhYDCpv\n",
              "5    data      0  2012-05-06 23:07:26.0  ...     OTHER  /lrUXVGVcN  /lrUXVGVcN\n",
              "6   Voice      0  2012-05-06 23:08:02.0  ...     19e2e  +38u2u/rfx  +38u2u/rfx\n",
              "7   Voice      0  2012-05-06 23:08:03.0  ...     19e2e  09UjmmY1Ds  09UjmmY1Ds\n",
              "8   Voice      0  2012-05-06 23:08:05.0  ...     19e2e  0DeimCpZOc  0DeimCpZOc\n",
              "9     sms      0  2012-05-06 23:08:43.0  ...     19e2e  01MDiY5F89  01MDiY5F89\n",
              "\n",
              "[10 rows x 10 columns]"
            ]
          },
          "metadata": {
            "tags": []
          },
          "execution_count": 2
        }
      ]
    },
    {
      "cell_type": "code",
      "metadata": {
        "colab": {
          "base_uri": "https://localhost:8080/",
          "height": 719
        },
        "id": "weZ6GnNpAjYT",
        "outputId": "1aacbd25-23fc-4b09-d31d-e7729bb05708"
      },
      "source": [
        "#Importing my Telcom 2 Dataset \n",
        "Tel2= pd.read_csv(\"Telcom_dataset2.csv\")\n",
        "Tel2\n",
        "\n",
        "#choosing the first 10 \n",
        "Tel1.head(10)"
      ],
      "execution_count": 3,
      "outputs": [
        {
          "output_type": "execute_result",
          "data": {
            "text/html": [
              "<div>\n",
              "<style scoped>\n",
              "    .dataframe tbody tr th:only-of-type {\n",
              "        vertical-align: middle;\n",
              "    }\n",
              "\n",
              "    .dataframe tbody tr th {\n",
              "        vertical-align: top;\n",
              "    }\n",
              "\n",
              "    .dataframe thead th {\n",
              "        text-align: right;\n",
              "    }\n",
              "</style>\n",
              "<table border=\"1\" class=\"dataframe\">\n",
              "  <thead>\n",
              "    <tr style=\"text-align: right;\">\n",
              "      <th></th>\n",
              "      <th>PRODUTC</th>\n",
              "      <th>VALUE</th>\n",
              "      <th>DATETIME</th>\n",
              "      <th>CELL_ON_SITE</th>\n",
              "      <th>DW_A_NUMBER_INT</th>\n",
              "      <th>DW_B_NUMBER_INT</th>\n",
              "      <th>COUNTRY_A</th>\n",
              "      <th>COUNTRY_B</th>\n",
              "      <th>CELL_ID</th>\n",
              "      <th>SITE_ID</th>\n",
              "    </tr>\n",
              "  </thead>\n",
              "  <tbody>\n",
              "    <tr>\n",
              "      <th>0</th>\n",
              "      <td>Voice</td>\n",
              "      <td>0</td>\n",
              "      <td>2012-05-06 23:04:37.0</td>\n",
              "      <td>1</td>\n",
              "      <td>49fae048b547780</td>\n",
              "      <td>1a49f8b0ded9de6</td>\n",
              "      <td>19e2e</td>\n",
              "      <td>19e2e</td>\n",
              "      <td>/TJNe+Mmtu</td>\n",
              "      <td>/TJNe+Mmtu</td>\n",
              "    </tr>\n",
              "    <tr>\n",
              "      <th>1</th>\n",
              "      <td>sms</td>\n",
              "      <td>0</td>\n",
              "      <td>2012-05-06 23:05:25.0</td>\n",
              "      <td>0</td>\n",
              "      <td>7a54a6eaee19e65</td>\n",
              "      <td>93343ba6e41af95</td>\n",
              "      <td>19e2e</td>\n",
              "      <td>19e2e</td>\n",
              "      <td>/+cKZKIp41</td>\n",
              "      <td>/+cKZKIp41</td>\n",
              "    </tr>\n",
              "    <tr>\n",
              "      <th>2</th>\n",
              "      <td>sms</td>\n",
              "      <td>25</td>\n",
              "      <td>2012-05-06 23:05:41.0</td>\n",
              "      <td>0</td>\n",
              "      <td>6008887b0207d82</td>\n",
              "      <td>7aacc9709ce0a20</td>\n",
              "      <td>19e2e</td>\n",
              "      <td>19e2e</td>\n",
              "      <td>/u0FSD+ahi</td>\n",
              "      <td>/u0FSD+ahi</td>\n",
              "    </tr>\n",
              "    <tr>\n",
              "      <th>3</th>\n",
              "      <td>Voice</td>\n",
              "      <td>56</td>\n",
              "      <td>2012-05-06 23:05:42.0</td>\n",
              "      <td>1</td>\n",
              "      <td>7370032e20f4e96</td>\n",
              "      <td>6af4a60e74c91d3</td>\n",
              "      <td>19e2e</td>\n",
              "      <td>19e2e</td>\n",
              "      <td>+cNeJzsTp3</td>\n",
              "      <td>+cNeJzsTp3</td>\n",
              "    </tr>\n",
              "    <tr>\n",
              "      <th>4</th>\n",
              "      <td>Voice</td>\n",
              "      <td>14</td>\n",
              "      <td>2012-05-06 23:06:29.0</td>\n",
              "      <td>1</td>\n",
              "      <td>966ba4656e38e62</td>\n",
              "      <td>02aa736ee555d5c</td>\n",
              "      <td>19e2e</td>\n",
              "      <td>19e2e</td>\n",
              "      <td>051KhYDCpv</td>\n",
              "      <td>051KhYDCpv</td>\n",
              "    </tr>\n",
              "    <tr>\n",
              "      <th>5</th>\n",
              "      <td>data</td>\n",
              "      <td>0</td>\n",
              "      <td>2012-05-06 23:07:26.0</td>\n",
              "      <td>_</td>\n",
              "      <td>f71825ca6e623f9</td>\n",
              "      <td>5a4dc9e82deb309</td>\n",
              "      <td>19e2e</td>\n",
              "      <td>OTHER</td>\n",
              "      <td>/lrUXVGVcN</td>\n",
              "      <td>/lrUXVGVcN</td>\n",
              "    </tr>\n",
              "    <tr>\n",
              "      <th>6</th>\n",
              "      <td>Voice</td>\n",
              "      <td>0</td>\n",
              "      <td>2012-05-06 23:08:02.0</td>\n",
              "      <td>1</td>\n",
              "      <td>4afd7d5af21b1ce</td>\n",
              "      <td>67bf1ac30e58e2f</td>\n",
              "      <td>19e2e</td>\n",
              "      <td>19e2e</td>\n",
              "      <td>+38u2u/rfx</td>\n",
              "      <td>+38u2u/rfx</td>\n",
              "    </tr>\n",
              "    <tr>\n",
              "      <th>7</th>\n",
              "      <td>Voice</td>\n",
              "      <td>0</td>\n",
              "      <td>2012-05-06 23:08:03.0</td>\n",
              "      <td>5</td>\n",
              "      <td>d717dee81c51389</td>\n",
              "      <td>adde5afd9a67b10</td>\n",
              "      <td>19e2e</td>\n",
              "      <td>19e2e</td>\n",
              "      <td>09UjmmY1Ds</td>\n",
              "      <td>09UjmmY1Ds</td>\n",
              "    </tr>\n",
              "    <tr>\n",
              "      <th>8</th>\n",
              "      <td>Voice</td>\n",
              "      <td>0</td>\n",
              "      <td>2012-05-06 23:08:05.0</td>\n",
              "      <td>1</td>\n",
              "      <td>44522aefdc918a6</td>\n",
              "      <td>19e68e80103885e</td>\n",
              "      <td>19e2e</td>\n",
              "      <td>19e2e</td>\n",
              "      <td>0DeimCpZOc</td>\n",
              "      <td>0DeimCpZOc</td>\n",
              "    </tr>\n",
              "    <tr>\n",
              "      <th>9</th>\n",
              "      <td>sms</td>\n",
              "      <td>0</td>\n",
              "      <td>2012-05-06 23:08:43.0</td>\n",
              "      <td>0</td>\n",
              "      <td>0763a571d24db64</td>\n",
              "      <td>f773694c00c74d2</td>\n",
              "      <td>19e2e</td>\n",
              "      <td>19e2e</td>\n",
              "      <td>01MDiY5F89</td>\n",
              "      <td>01MDiY5F89</td>\n",
              "    </tr>\n",
              "  </tbody>\n",
              "</table>\n",
              "</div>"
            ],
            "text/plain": [
              "  PRODUTC  VALUE               DATETIME  ... COUNTRY_B     CELL_ID     SITE_ID\n",
              "0   Voice      0  2012-05-06 23:04:37.0  ...     19e2e  /TJNe+Mmtu  /TJNe+Mmtu\n",
              "1     sms      0  2012-05-06 23:05:25.0  ...     19e2e  /+cKZKIp41  /+cKZKIp41\n",
              "2     sms     25  2012-05-06 23:05:41.0  ...     19e2e  /u0FSD+ahi  /u0FSD+ahi\n",
              "3   Voice     56  2012-05-06 23:05:42.0  ...     19e2e  +cNeJzsTp3  +cNeJzsTp3\n",
              "4   Voice     14  2012-05-06 23:06:29.0  ...     19e2e  051KhYDCpv  051KhYDCpv\n",
              "5    data      0  2012-05-06 23:07:26.0  ...     OTHER  /lrUXVGVcN  /lrUXVGVcN\n",
              "6   Voice      0  2012-05-06 23:08:02.0  ...     19e2e  +38u2u/rfx  +38u2u/rfx\n",
              "7   Voice      0  2012-05-06 23:08:03.0  ...     19e2e  09UjmmY1Ds  09UjmmY1Ds\n",
              "8   Voice      0  2012-05-06 23:08:05.0  ...     19e2e  0DeimCpZOc  0DeimCpZOc\n",
              "9     sms      0  2012-05-06 23:08:43.0  ...     19e2e  01MDiY5F89  01MDiY5F89\n",
              "\n",
              "[10 rows x 10 columns]"
            ]
          },
          "metadata": {
            "tags": []
          },
          "execution_count": 3
        }
      ]
    },
    {
      "cell_type": "code",
      "metadata": {
        "colab": {
          "base_uri": "https://localhost:8080/",
          "height": 719
        },
        "id": "OPW5bzTFAs_S",
        "outputId": "10073270-8af4-4823-a7b9-69eadcfc50aa"
      },
      "source": [
        "#Importing my Telcom 3 Dataset\n",
        "Tel3= pd.read_csv(\"Telcom_dataset3.csv\")\n",
        "Tel3\n",
        "\n",
        "#choosing the first 10 \n",
        "Tel1.head(10)"
      ],
      "execution_count": 4,
      "outputs": [
        {
          "output_type": "execute_result",
          "data": {
            "text/html": [
              "<div>\n",
              "<style scoped>\n",
              "    .dataframe tbody tr th:only-of-type {\n",
              "        vertical-align: middle;\n",
              "    }\n",
              "\n",
              "    .dataframe tbody tr th {\n",
              "        vertical-align: top;\n",
              "    }\n",
              "\n",
              "    .dataframe thead th {\n",
              "        text-align: right;\n",
              "    }\n",
              "</style>\n",
              "<table border=\"1\" class=\"dataframe\">\n",
              "  <thead>\n",
              "    <tr style=\"text-align: right;\">\n",
              "      <th></th>\n",
              "      <th>PRODUTC</th>\n",
              "      <th>VALUE</th>\n",
              "      <th>DATETIME</th>\n",
              "      <th>CELL_ON_SITE</th>\n",
              "      <th>DW_A_NUMBER_INT</th>\n",
              "      <th>DW_B_NUMBER_INT</th>\n",
              "      <th>COUNTRY_A</th>\n",
              "      <th>COUNTRY_B</th>\n",
              "      <th>CELL_ID</th>\n",
              "      <th>SITE_ID</th>\n",
              "    </tr>\n",
              "  </thead>\n",
              "  <tbody>\n",
              "    <tr>\n",
              "      <th>0</th>\n",
              "      <td>Voice</td>\n",
              "      <td>0</td>\n",
              "      <td>2012-05-06 23:04:37.0</td>\n",
              "      <td>1</td>\n",
              "      <td>49fae048b547780</td>\n",
              "      <td>1a49f8b0ded9de6</td>\n",
              "      <td>19e2e</td>\n",
              "      <td>19e2e</td>\n",
              "      <td>/TJNe+Mmtu</td>\n",
              "      <td>/TJNe+Mmtu</td>\n",
              "    </tr>\n",
              "    <tr>\n",
              "      <th>1</th>\n",
              "      <td>sms</td>\n",
              "      <td>0</td>\n",
              "      <td>2012-05-06 23:05:25.0</td>\n",
              "      <td>0</td>\n",
              "      <td>7a54a6eaee19e65</td>\n",
              "      <td>93343ba6e41af95</td>\n",
              "      <td>19e2e</td>\n",
              "      <td>19e2e</td>\n",
              "      <td>/+cKZKIp41</td>\n",
              "      <td>/+cKZKIp41</td>\n",
              "    </tr>\n",
              "    <tr>\n",
              "      <th>2</th>\n",
              "      <td>sms</td>\n",
              "      <td>25</td>\n",
              "      <td>2012-05-06 23:05:41.0</td>\n",
              "      <td>0</td>\n",
              "      <td>6008887b0207d82</td>\n",
              "      <td>7aacc9709ce0a20</td>\n",
              "      <td>19e2e</td>\n",
              "      <td>19e2e</td>\n",
              "      <td>/u0FSD+ahi</td>\n",
              "      <td>/u0FSD+ahi</td>\n",
              "    </tr>\n",
              "    <tr>\n",
              "      <th>3</th>\n",
              "      <td>Voice</td>\n",
              "      <td>56</td>\n",
              "      <td>2012-05-06 23:05:42.0</td>\n",
              "      <td>1</td>\n",
              "      <td>7370032e20f4e96</td>\n",
              "      <td>6af4a60e74c91d3</td>\n",
              "      <td>19e2e</td>\n",
              "      <td>19e2e</td>\n",
              "      <td>+cNeJzsTp3</td>\n",
              "      <td>+cNeJzsTp3</td>\n",
              "    </tr>\n",
              "    <tr>\n",
              "      <th>4</th>\n",
              "      <td>Voice</td>\n",
              "      <td>14</td>\n",
              "      <td>2012-05-06 23:06:29.0</td>\n",
              "      <td>1</td>\n",
              "      <td>966ba4656e38e62</td>\n",
              "      <td>02aa736ee555d5c</td>\n",
              "      <td>19e2e</td>\n",
              "      <td>19e2e</td>\n",
              "      <td>051KhYDCpv</td>\n",
              "      <td>051KhYDCpv</td>\n",
              "    </tr>\n",
              "    <tr>\n",
              "      <th>5</th>\n",
              "      <td>data</td>\n",
              "      <td>0</td>\n",
              "      <td>2012-05-06 23:07:26.0</td>\n",
              "      <td>_</td>\n",
              "      <td>f71825ca6e623f9</td>\n",
              "      <td>5a4dc9e82deb309</td>\n",
              "      <td>19e2e</td>\n",
              "      <td>OTHER</td>\n",
              "      <td>/lrUXVGVcN</td>\n",
              "      <td>/lrUXVGVcN</td>\n",
              "    </tr>\n",
              "    <tr>\n",
              "      <th>6</th>\n",
              "      <td>Voice</td>\n",
              "      <td>0</td>\n",
              "      <td>2012-05-06 23:08:02.0</td>\n",
              "      <td>1</td>\n",
              "      <td>4afd7d5af21b1ce</td>\n",
              "      <td>67bf1ac30e58e2f</td>\n",
              "      <td>19e2e</td>\n",
              "      <td>19e2e</td>\n",
              "      <td>+38u2u/rfx</td>\n",
              "      <td>+38u2u/rfx</td>\n",
              "    </tr>\n",
              "    <tr>\n",
              "      <th>7</th>\n",
              "      <td>Voice</td>\n",
              "      <td>0</td>\n",
              "      <td>2012-05-06 23:08:03.0</td>\n",
              "      <td>5</td>\n",
              "      <td>d717dee81c51389</td>\n",
              "      <td>adde5afd9a67b10</td>\n",
              "      <td>19e2e</td>\n",
              "      <td>19e2e</td>\n",
              "      <td>09UjmmY1Ds</td>\n",
              "      <td>09UjmmY1Ds</td>\n",
              "    </tr>\n",
              "    <tr>\n",
              "      <th>8</th>\n",
              "      <td>Voice</td>\n",
              "      <td>0</td>\n",
              "      <td>2012-05-06 23:08:05.0</td>\n",
              "      <td>1</td>\n",
              "      <td>44522aefdc918a6</td>\n",
              "      <td>19e68e80103885e</td>\n",
              "      <td>19e2e</td>\n",
              "      <td>19e2e</td>\n",
              "      <td>0DeimCpZOc</td>\n",
              "      <td>0DeimCpZOc</td>\n",
              "    </tr>\n",
              "    <tr>\n",
              "      <th>9</th>\n",
              "      <td>sms</td>\n",
              "      <td>0</td>\n",
              "      <td>2012-05-06 23:08:43.0</td>\n",
              "      <td>0</td>\n",
              "      <td>0763a571d24db64</td>\n",
              "      <td>f773694c00c74d2</td>\n",
              "      <td>19e2e</td>\n",
              "      <td>19e2e</td>\n",
              "      <td>01MDiY5F89</td>\n",
              "      <td>01MDiY5F89</td>\n",
              "    </tr>\n",
              "  </tbody>\n",
              "</table>\n",
              "</div>"
            ],
            "text/plain": [
              "  PRODUTC  VALUE               DATETIME  ... COUNTRY_B     CELL_ID     SITE_ID\n",
              "0   Voice      0  2012-05-06 23:04:37.0  ...     19e2e  /TJNe+Mmtu  /TJNe+Mmtu\n",
              "1     sms      0  2012-05-06 23:05:25.0  ...     19e2e  /+cKZKIp41  /+cKZKIp41\n",
              "2     sms     25  2012-05-06 23:05:41.0  ...     19e2e  /u0FSD+ahi  /u0FSD+ahi\n",
              "3   Voice     56  2012-05-06 23:05:42.0  ...     19e2e  +cNeJzsTp3  +cNeJzsTp3\n",
              "4   Voice     14  2012-05-06 23:06:29.0  ...     19e2e  051KhYDCpv  051KhYDCpv\n",
              "5    data      0  2012-05-06 23:07:26.0  ...     OTHER  /lrUXVGVcN  /lrUXVGVcN\n",
              "6   Voice      0  2012-05-06 23:08:02.0  ...     19e2e  +38u2u/rfx  +38u2u/rfx\n",
              "7   Voice      0  2012-05-06 23:08:03.0  ...     19e2e  09UjmmY1Ds  09UjmmY1Ds\n",
              "8   Voice      0  2012-05-06 23:08:05.0  ...     19e2e  0DeimCpZOc  0DeimCpZOc\n",
              "9     sms      0  2012-05-06 23:08:43.0  ...     19e2e  01MDiY5F89  01MDiY5F89\n",
              "\n",
              "[10 rows x 10 columns]"
            ]
          },
          "metadata": {
            "tags": []
          },
          "execution_count": 4
        }
      ]
    },
    {
      "cell_type": "markdown",
      "metadata": {
        "id": "MwEjpRFt-cqd"
      },
      "source": [
        "# **INFORMATION SECTION ON THE DATASETS**"
      ]
    },
    {
      "cell_type": "code",
      "metadata": {
        "colab": {
          "base_uri": "https://localhost:8080/"
        },
        "id": "kHLvwP4YGjxR",
        "outputId": "a30ad711-b3db-48dc-ec27-bb1131f765f7"
      },
      "source": [
        "#Cheking the information on the datasest\n",
        "# Getting to understand the Data types and the entries of the datasets \n",
        "geo.info()\n",
        "\n",
        "print(\"***************************************************************\")\n",
        "Tel1.info()\n",
        "\n",
        "print(\"***************************************************************\")\n",
        "Tel2.info()\n",
        "\n",
        "print(\"***************************************************************\")\n",
        "Tel3.info()"
      ],
      "execution_count": 5,
      "outputs": [
        {
          "output_type": "stream",
          "text": [
            "<class 'pandas.core.frame.DataFrame'>\n",
            "Int64Index: 3974 entries, 0 to 3973\n",
            "Data columns (total 11 columns):\n",
            " #   Column        Non-Null Count  Dtype  \n",
            "---  ------        --------------  -----  \n",
            " 0   VILLES        3974 non-null   object \n",
            " 1   STATUS        3907 non-null   object \n",
            " 2   LOCALISATION  3974 non-null   object \n",
            " 3   DECOUPZONE    3974 non-null   object \n",
            " 4   ZONENAME      3968 non-null   object \n",
            " 5   LONGITUDE     3974 non-null   float64\n",
            " 6   LATITUDE      3974 non-null   float64\n",
            " 7   REGION        3974 non-null   object \n",
            " 8   AREA          3951 non-null   object \n",
            " 9   CELL_ID       3974 non-null   object \n",
            " 10  SITE_CODE     3974 non-null   object \n",
            "dtypes: float64(2), object(9)\n",
            "memory usage: 372.6+ KB\n",
            "***************************************************************\n",
            "<class 'pandas.core.frame.DataFrame'>\n",
            "RangeIndex: 5001 entries, 0 to 5000\n",
            "Data columns (total 10 columns):\n",
            " #   Column           Non-Null Count  Dtype \n",
            "---  ------           --------------  ----- \n",
            " 0   PRODUTC          5001 non-null   object\n",
            " 1   VALUE            5001 non-null   int64 \n",
            " 2   DATETIME         5001 non-null   object\n",
            " 3   CELL_ON_SITE     5001 non-null   object\n",
            " 4   DW_A_NUMBER_INT  5001 non-null   object\n",
            " 5   DW_B_NUMBER_INT  5001 non-null   object\n",
            " 6   COUNTRY_A        5001 non-null   object\n",
            " 7   COUNTRY_B        5001 non-null   object\n",
            " 8   CELL_ID          5001 non-null   object\n",
            " 9   SITE_ID          4285 non-null   object\n",
            "dtypes: int64(1), object(9)\n",
            "memory usage: 390.8+ KB\n",
            "***************************************************************\n",
            "<class 'pandas.core.frame.DataFrame'>\n",
            "RangeIndex: 5001 entries, 0 to 5000\n",
            "Data columns (total 10 columns):\n",
            " #   Column        Non-Null Count  Dtype \n",
            "---  ------        --------------  ----- \n",
            " 0   PRODUCT       5001 non-null   object\n",
            " 1   VALUE         5001 non-null   int64 \n",
            " 2   DATE_TIME     5001 non-null   object\n",
            " 3   CELL_ON_SITE  5001 non-null   object\n",
            " 4   DW_A_NUMBER   5001 non-null   object\n",
            " 5   DW_B_NUMBER   5001 non-null   object\n",
            " 6   COUNTRY_A     5001 non-null   object\n",
            " 7   COUNTRY_B     5001 non-null   object\n",
            " 8   CELL_ID       5001 non-null   object\n",
            " 9   SITE_ID       4325 non-null   object\n",
            "dtypes: int64(1), object(9)\n",
            "memory usage: 390.8+ KB\n",
            "***************************************************************\n",
            "<class 'pandas.core.frame.DataFrame'>\n",
            "RangeIndex: 5001 entries, 0 to 5000\n",
            "Data columns (total 10 columns):\n",
            " #   Column           Non-Null Count  Dtype \n",
            "---  ------           --------------  ----- \n",
            " 0   PRODUCT          5001 non-null   object\n",
            " 1   VALUE            5001 non-null   int64 \n",
            " 2   DATE_TIME        5001 non-null   object\n",
            " 3   CELL_ON_SITE     5001 non-null   object\n",
            " 4   DW_A_NUMBER_INT  5001 non-null   object\n",
            " 5   DW_B_NUMBER_INT  5001 non-null   object\n",
            " 6   COUNTRY_A        5001 non-null   object\n",
            " 7   COUNTRY_B        5001 non-null   object\n",
            " 8   CELLID           5001 non-null   object\n",
            " 9   SIET_ID          4396 non-null   object\n",
            "dtypes: int64(1), object(9)\n",
            "memory usage: 390.8+ KB\n"
          ],
          "name": "stdout"
        }
      ]
    },
    {
      "cell_type": "markdown",
      "metadata": {
        "id": "stP0WEgB-tbm"
      },
      "source": [
        "# **CHECKING THE NULL VALUES IN THE DATASETS**"
      ]
    },
    {
      "cell_type": "code",
      "metadata": {
        "colab": {
          "base_uri": "https://localhost:8080/"
        },
        "id": "lV74RnriHUnJ",
        "outputId": "2ebff3ee-b3e3-4a01-fa22-666b8c1eb2bb"
      },
      "source": [
        "#checking if my cells geo dataset has any null values\n",
        "geo.isnull().values.any()"
      ],
      "execution_count": 6,
      "outputs": [
        {
          "output_type": "execute_result",
          "data": {
            "text/plain": [
              "True"
            ]
          },
          "metadata": {
            "tags": []
          },
          "execution_count": 6
        }
      ]
    },
    {
      "cell_type": "code",
      "metadata": {
        "colab": {
          "base_uri": "https://localhost:8080/"
        },
        "id": "UCJ-iCMABhE-",
        "outputId": "97449ced-25f4-4bd2-b8cb-b7bb52030691"
      },
      "source": [
        "#checking how many missing values are in my cell_geo dataset in the columns \n",
        "geo.isnull().sum()"
      ],
      "execution_count": 7,
      "outputs": [
        {
          "output_type": "execute_result",
          "data": {
            "text/plain": [
              "VILLES           0\n",
              "STATUS          67\n",
              "LOCALISATION     0\n",
              "DECOUPZONE       0\n",
              "ZONENAME         6\n",
              "LONGITUDE        0\n",
              "LATITUDE         0\n",
              "REGION           0\n",
              "AREA            23\n",
              "CELL_ID          0\n",
              "SITE_CODE        0\n",
              "dtype: int64"
            ]
          },
          "metadata": {
            "tags": []
          },
          "execution_count": 7
        }
      ]
    },
    {
      "cell_type": "code",
      "metadata": {
        "colab": {
          "base_uri": "https://localhost:8080/"
        },
        "id": "xaarlmUh_jF2",
        "outputId": "d8eb7fee-2714-4ae6-e6f1-6266537542a6"
      },
      "source": [
        "#cheking null values in my telcom 1 dataset \n",
        "Tel1.isnull().values.any()"
      ],
      "execution_count": 8,
      "outputs": [
        {
          "output_type": "execute_result",
          "data": {
            "text/plain": [
              "True"
            ]
          },
          "metadata": {
            "tags": []
          },
          "execution_count": 8
        }
      ]
    },
    {
      "cell_type": "code",
      "metadata": {
        "colab": {
          "base_uri": "https://localhost:8080/"
        },
        "id": "5FGOp8iHB3-S",
        "outputId": "bcc911d5-219e-4fb4-92d2-84dc391f9ecc"
      },
      "source": [
        "#checking how many missing values are in my telcome1 dataset \n",
        "Tel1.isnull().sum()"
      ],
      "execution_count": 9,
      "outputs": [
        {
          "output_type": "execute_result",
          "data": {
            "text/plain": [
              "PRODUTC              0\n",
              "VALUE                0\n",
              "DATETIME             0\n",
              "CELL_ON_SITE         0\n",
              "DW_A_NUMBER_INT      0\n",
              "DW_B_NUMBER_INT      0\n",
              "COUNTRY_A            0\n",
              "COUNTRY_B            0\n",
              "CELL_ID              0\n",
              "SITE_ID            716\n",
              "dtype: int64"
            ]
          },
          "metadata": {
            "tags": []
          },
          "execution_count": 9
        }
      ]
    },
    {
      "cell_type": "code",
      "metadata": {
        "colab": {
          "base_uri": "https://localhost:8080/"
        },
        "id": "vGKMNhD3CEMV",
        "outputId": "732195ed-4e5f-4593-dae4-fc5e042dcb28"
      },
      "source": [
        "#cheking null values in my telcom21 dataset \n",
        "Tel2.isnull().values.any()"
      ],
      "execution_count": 10,
      "outputs": [
        {
          "output_type": "execute_result",
          "data": {
            "text/plain": [
              "True"
            ]
          },
          "metadata": {
            "tags": []
          },
          "execution_count": 10
        }
      ]
    },
    {
      "cell_type": "code",
      "metadata": {
        "colab": {
          "base_uri": "https://localhost:8080/"
        },
        "id": "Pe6QgHIPCEmL",
        "outputId": "dd9b2b71-b802-40cf-9f84-d3b0a63520b9"
      },
      "source": [
        "#checking how many missing values are in my telcome 2 dataset \n",
        "Tel2.isnull().sum()"
      ],
      "execution_count": 11,
      "outputs": [
        {
          "output_type": "execute_result",
          "data": {
            "text/plain": [
              "PRODUCT           0\n",
              "VALUE             0\n",
              "DATE_TIME         0\n",
              "CELL_ON_SITE      0\n",
              "DW_A_NUMBER       0\n",
              "DW_B_NUMBER       0\n",
              "COUNTRY_A         0\n",
              "COUNTRY_B         0\n",
              "CELL_ID           0\n",
              "SITE_ID         676\n",
              "dtype: int64"
            ]
          },
          "metadata": {
            "tags": []
          },
          "execution_count": 11
        }
      ]
    },
    {
      "cell_type": "code",
      "metadata": {
        "colab": {
          "base_uri": "https://localhost:8080/"
        },
        "id": "lqUOFYdKCE37",
        "outputId": "14deb8fc-c13f-459c-c0c1-33dde3978e7c"
      },
      "source": [
        "#checking how many missing values are in my telcome 3 dataset \n",
        "Tel3.isnull().values.any()"
      ],
      "execution_count": 12,
      "outputs": [
        {
          "output_type": "execute_result",
          "data": {
            "text/plain": [
              "True"
            ]
          },
          "metadata": {
            "tags": []
          },
          "execution_count": 12
        }
      ]
    },
    {
      "cell_type": "code",
      "metadata": {
        "colab": {
          "base_uri": "https://localhost:8080/"
        },
        "id": "9MLKgr4KCFFK",
        "outputId": "9fe9bb69-8d75-4472-f77e-c21c03f2eddf"
      },
      "source": [
        "#checking how many missing values are in my telcome 3 dataset \n",
        "Tel3.isnull().sum()"
      ],
      "execution_count": 13,
      "outputs": [
        {
          "output_type": "execute_result",
          "data": {
            "text/plain": [
              "PRODUCT              0\n",
              "VALUE                0\n",
              "DATE_TIME            0\n",
              "CELL_ON_SITE         0\n",
              "DW_A_NUMBER_INT      0\n",
              "DW_B_NUMBER_INT      0\n",
              "COUNTRY_A            0\n",
              "COUNTRY_B            0\n",
              "CELLID               0\n",
              "SIET_ID            605\n",
              "dtype: int64"
            ]
          },
          "metadata": {
            "tags": []
          },
          "execution_count": 13
        }
      ]
    },
    {
      "cell_type": "markdown",
      "metadata": {
        "id": "4ovHIf8bNY2y"
      },
      "source": [
        "# **CLEANING MY DATA**"
      ]
    },
    {
      "cell_type": "markdown",
      "metadata": {
        "id": "-pBINrnF-CLn"
      },
      "source": [
        " 1 .**Taking care of missing data**"
      ]
    },
    {
      "cell_type": "code",
      "metadata": {
        "colab": {
          "base_uri": "https://localhost:8080/",
          "height": 694
        },
        "id": "dds2rfPjWb3X",
        "outputId": "b97b0992-15a7-4b0d-bfe9-20f0d89d3870"
      },
      "source": [
        "# taking care of missing data in my cells_geo dataset by replacing the nan with .\n",
        "geo2 = geo.replace(np.nan, \".\", regex = True)\n",
        "geo2"
      ],
      "execution_count": 14,
      "outputs": [
        {
          "output_type": "execute_result",
          "data": {
            "text/html": [
              "<div>\n",
              "<style scoped>\n",
              "    .dataframe tbody tr th:only-of-type {\n",
              "        vertical-align: middle;\n",
              "    }\n",
              "\n",
              "    .dataframe tbody tr th {\n",
              "        vertical-align: top;\n",
              "    }\n",
              "\n",
              "    .dataframe thead th {\n",
              "        text-align: right;\n",
              "    }\n",
              "</style>\n",
              "<table border=\"1\" class=\"dataframe\">\n",
              "  <thead>\n",
              "    <tr style=\"text-align: right;\">\n",
              "      <th></th>\n",
              "      <th>VILLES</th>\n",
              "      <th>STATUS</th>\n",
              "      <th>LOCALISATION</th>\n",
              "      <th>DECOUPZONE</th>\n",
              "      <th>ZONENAME</th>\n",
              "      <th>LONGITUDE</th>\n",
              "      <th>LATITUDE</th>\n",
              "      <th>REGION</th>\n",
              "      <th>AREA</th>\n",
              "      <th>CELL_ID</th>\n",
              "      <th>SITE_CODE</th>\n",
              "    </tr>\n",
              "  </thead>\n",
              "  <tbody>\n",
              "    <tr>\n",
              "      <th>0</th>\n",
              "      <td>ADJAME</td>\n",
              "      <td>In Service</td>\n",
              "      <td>ABIDJAN</td>\n",
              "      <td>\"Abidjan_EST</td>\n",
              "      <td>AGBANNEW</td>\n",
              "      <td>-4.000667</td>\n",
              "      <td>5.368194</td>\n",
              "      <td>LAGUNE</td>\n",
              "      <td>.</td>\n",
              "      <td>fbb2e75af3</td>\n",
              "      <td>0bb492ef17</td>\n",
              "    </tr>\n",
              "    <tr>\n",
              "      <th>1</th>\n",
              "      <td>ADJAME</td>\n",
              "      <td>In Service</td>\n",
              "      <td>ABIDJAN</td>\n",
              "      <td>\"Abidjan_EST</td>\n",
              "      <td>AGBANNEW</td>\n",
              "      <td>-4.000667</td>\n",
              "      <td>5.368194</td>\n",
              "      <td>LAGUNE</td>\n",
              "      <td>.</td>\n",
              "      <td>1502501d78</td>\n",
              "      <td>0bb492ef17</td>\n",
              "    </tr>\n",
              "    <tr>\n",
              "      <th>2</th>\n",
              "      <td>ADJAME</td>\n",
              "      <td>In Service</td>\n",
              "      <td>ABIDJAN</td>\n",
              "      <td>\"Abidjan_EST</td>\n",
              "      <td>AGBANNEW</td>\n",
              "      <td>-4.000667</td>\n",
              "      <td>5.368194</td>\n",
              "      <td>LAGUNE</td>\n",
              "      <td>.</td>\n",
              "      <td>0c2e182a0c</td>\n",
              "      <td>0bb492ef17</td>\n",
              "    </tr>\n",
              "    <tr>\n",
              "      <th>3</th>\n",
              "      <td>ASSINIE</td>\n",
              "      <td>In Service</td>\n",
              "      <td>INTERIEUR</td>\n",
              "      <td>Grand-EST</td>\n",
              "      <td>ASSINIE\"</td>\n",
              "      <td>-3.488467</td>\n",
              "      <td>5.158761</td>\n",
              "      <td>SUD COMOE</td>\n",
              "      <td>.</td>\n",
              "      <td>69bdfc69fd</td>\n",
              "      <td>8a1e6ce31f</td>\n",
              "    </tr>\n",
              "    <tr>\n",
              "      <th>4</th>\n",
              "      <td>ASSINIE</td>\n",
              "      <td>In Service</td>\n",
              "      <td>INTERIEUR</td>\n",
              "      <td>Grand-EST</td>\n",
              "      <td>ASSINIE\"</td>\n",
              "      <td>-3.488467</td>\n",
              "      <td>5.158761</td>\n",
              "      <td>SUD COMOE</td>\n",
              "      <td>.</td>\n",
              "      <td>7a1029d2ab</td>\n",
              "      <td>8a1e6ce31f</td>\n",
              "    </tr>\n",
              "    <tr>\n",
              "      <th>...</th>\n",
              "      <td>...</td>\n",
              "      <td>...</td>\n",
              "      <td>...</td>\n",
              "      <td>...</td>\n",
              "      <td>...</td>\n",
              "      <td>...</td>\n",
              "      <td>...</td>\n",
              "      <td>...</td>\n",
              "      <td>...</td>\n",
              "      <td>...</td>\n",
              "      <td>...</td>\n",
              "    </tr>\n",
              "    <tr>\n",
              "      <th>3969</th>\n",
              "      <td>ZUENOULA</td>\n",
              "      <td>In Service</td>\n",
              "      <td>INTERIEUR</td>\n",
              "      <td>Grand-NORD</td>\n",
              "      <td>ZONE A - Grand-NORD</td>\n",
              "      <td>-6.039694</td>\n",
              "      <td>7.428611</td>\n",
              "      <td>MARAHOUE</td>\n",
              "      <td>CENTRE NORTH</td>\n",
              "      <td>1cfc2d7ab1</td>\n",
              "      <td>f91ed8d2e9</td>\n",
              "    </tr>\n",
              "    <tr>\n",
              "      <th>3970</th>\n",
              "      <td>ZUENOULA</td>\n",
              "      <td>In Service</td>\n",
              "      <td>INTERIEUR</td>\n",
              "      <td>Grand-NORD</td>\n",
              "      <td>ZONE A - Grand-NORD</td>\n",
              "      <td>-6.039694</td>\n",
              "      <td>7.428611</td>\n",
              "      <td>MARAHOUE</td>\n",
              "      <td>CENTRE NORTH</td>\n",
              "      <td>3ae1708153</td>\n",
              "      <td>f91ed8d2e9</td>\n",
              "    </tr>\n",
              "    <tr>\n",
              "      <th>3971</th>\n",
              "      <td>ZUENOULA</td>\n",
              "      <td>In Service</td>\n",
              "      <td>INTERIEUR</td>\n",
              "      <td>Grand-NORD</td>\n",
              "      <td>ZONE A - Grand-NORD</td>\n",
              "      <td>-6.065450</td>\n",
              "      <td>7.444592</td>\n",
              "      <td>MARAHOUE</td>\n",
              "      <td>CENTRE NORTH</td>\n",
              "      <td>cb71f8a29c</td>\n",
              "      <td>61bee9c70c</td>\n",
              "    </tr>\n",
              "    <tr>\n",
              "      <th>3972</th>\n",
              "      <td>ZUENOULA</td>\n",
              "      <td>In Service</td>\n",
              "      <td>INTERIEUR</td>\n",
              "      <td>Grand-NORD</td>\n",
              "      <td>ZONE A - Grand-NORD</td>\n",
              "      <td>-6.065450</td>\n",
              "      <td>7.444592</td>\n",
              "      <td>MARAHOUE</td>\n",
              "      <td>CENTRE NORTH</td>\n",
              "      <td>d4a6a0b645</td>\n",
              "      <td>61bee9c70c</td>\n",
              "    </tr>\n",
              "    <tr>\n",
              "      <th>3973</th>\n",
              "      <td>ZUENOULA</td>\n",
              "      <td>In Service</td>\n",
              "      <td>INTERIEUR</td>\n",
              "      <td>Grand-NORD</td>\n",
              "      <td>ZONE A - Grand-NORD</td>\n",
              "      <td>-6.065450</td>\n",
              "      <td>7.444592</td>\n",
              "      <td>MARAHOUE</td>\n",
              "      <td>CENTRE NORTH</td>\n",
              "      <td>f9f3e42589</td>\n",
              "      <td>61bee9c70c</td>\n",
              "    </tr>\n",
              "  </tbody>\n",
              "</table>\n",
              "<p>3974 rows × 11 columns</p>\n",
              "</div>"
            ],
            "text/plain": [
              "        VILLES      STATUS LOCALISATION  ...          AREA     CELL_ID   SITE_CODE\n",
              "0       ADJAME  In Service      ABIDJAN  ...             .  fbb2e75af3  0bb492ef17\n",
              "1       ADJAME  In Service      ABIDJAN  ...             .  1502501d78  0bb492ef17\n",
              "2       ADJAME  In Service      ABIDJAN  ...             .  0c2e182a0c  0bb492ef17\n",
              "3      ASSINIE  In Service    INTERIEUR  ...             .  69bdfc69fd  8a1e6ce31f\n",
              "4      ASSINIE  In Service    INTERIEUR  ...             .  7a1029d2ab  8a1e6ce31f\n",
              "...        ...         ...          ...  ...           ...         ...         ...\n",
              "3969  ZUENOULA  In Service    INTERIEUR  ...  CENTRE NORTH  1cfc2d7ab1  f91ed8d2e9\n",
              "3970  ZUENOULA  In Service    INTERIEUR  ...  CENTRE NORTH  3ae1708153  f91ed8d2e9\n",
              "3971  ZUENOULA  In Service    INTERIEUR  ...  CENTRE NORTH  cb71f8a29c  61bee9c70c\n",
              "3972  ZUENOULA  In Service    INTERIEUR  ...  CENTRE NORTH  d4a6a0b645  61bee9c70c\n",
              "3973  ZUENOULA  In Service    INTERIEUR  ...  CENTRE NORTH  f9f3e42589  61bee9c70c\n",
              "\n",
              "[3974 rows x 11 columns]"
            ]
          },
          "metadata": {
            "tags": []
          },
          "execution_count": 14
        }
      ]
    },
    {
      "cell_type": "code",
      "metadata": {
        "colab": {
          "base_uri": "https://localhost:8080/"
        },
        "id": "mGf88KEF3FGf",
        "outputId": "78ad6276-4397-4333-a80d-2241e6e966ba"
      },
      "source": [
        "#checking if their any missing value in my geo2 dataset\n",
        "geo2.isnull().sum()"
      ],
      "execution_count": 15,
      "outputs": [
        {
          "output_type": "execute_result",
          "data": {
            "text/plain": [
              "VILLES          0\n",
              "STATUS          0\n",
              "LOCALISATION    0\n",
              "DECOUPZONE      0\n",
              "ZONENAME        0\n",
              "LONGITUDE       0\n",
              "LATITUDE        0\n",
              "REGION          0\n",
              "AREA            0\n",
              "CELL_ID         0\n",
              "SITE_CODE       0\n",
              "dtype: int64"
            ]
          },
          "metadata": {
            "tags": []
          },
          "execution_count": 15
        }
      ]
    },
    {
      "cell_type": "code",
      "metadata": {
        "colab": {
          "base_uri": "https://localhost:8080/",
          "height": 779
        },
        "id": "kzDsEjnKYxaH",
        "outputId": "3fb52040-e295-4d74-e07a-d6578deabb6c"
      },
      "source": [
        "#Taking care of missing data in my Telcom 1 Dataset \n",
        "Tel1up = Tel1.replace(np.nan, \".\", regex=True)\n",
        "Tel1up"
      ],
      "execution_count": 16,
      "outputs": [
        {
          "output_type": "execute_result",
          "data": {
            "text/html": [
              "<div>\n",
              "<style scoped>\n",
              "    .dataframe tbody tr th:only-of-type {\n",
              "        vertical-align: middle;\n",
              "    }\n",
              "\n",
              "    .dataframe tbody tr th {\n",
              "        vertical-align: top;\n",
              "    }\n",
              "\n",
              "    .dataframe thead th {\n",
              "        text-align: right;\n",
              "    }\n",
              "</style>\n",
              "<table border=\"1\" class=\"dataframe\">\n",
              "  <thead>\n",
              "    <tr style=\"text-align: right;\">\n",
              "      <th></th>\n",
              "      <th>PRODUTC</th>\n",
              "      <th>VALUE</th>\n",
              "      <th>DATETIME</th>\n",
              "      <th>CELL_ON_SITE</th>\n",
              "      <th>DW_A_NUMBER_INT</th>\n",
              "      <th>DW_B_NUMBER_INT</th>\n",
              "      <th>COUNTRY_A</th>\n",
              "      <th>COUNTRY_B</th>\n",
              "      <th>CELL_ID</th>\n",
              "      <th>SITE_ID</th>\n",
              "    </tr>\n",
              "  </thead>\n",
              "  <tbody>\n",
              "    <tr>\n",
              "      <th>0</th>\n",
              "      <td>Voice</td>\n",
              "      <td>0</td>\n",
              "      <td>2012-05-06 23:04:37.0</td>\n",
              "      <td>1</td>\n",
              "      <td>49fae048b547780</td>\n",
              "      <td>1a49f8b0ded9de6</td>\n",
              "      <td>19e2e</td>\n",
              "      <td>19e2e</td>\n",
              "      <td>/TJNe+Mmtu</td>\n",
              "      <td>/TJNe+Mmtu</td>\n",
              "    </tr>\n",
              "    <tr>\n",
              "      <th>1</th>\n",
              "      <td>sms</td>\n",
              "      <td>0</td>\n",
              "      <td>2012-05-06 23:05:25.0</td>\n",
              "      <td>0</td>\n",
              "      <td>7a54a6eaee19e65</td>\n",
              "      <td>93343ba6e41af95</td>\n",
              "      <td>19e2e</td>\n",
              "      <td>19e2e</td>\n",
              "      <td>/+cKZKIp41</td>\n",
              "      <td>/+cKZKIp41</td>\n",
              "    </tr>\n",
              "    <tr>\n",
              "      <th>2</th>\n",
              "      <td>sms</td>\n",
              "      <td>25</td>\n",
              "      <td>2012-05-06 23:05:41.0</td>\n",
              "      <td>0</td>\n",
              "      <td>6008887b0207d82</td>\n",
              "      <td>7aacc9709ce0a20</td>\n",
              "      <td>19e2e</td>\n",
              "      <td>19e2e</td>\n",
              "      <td>/u0FSD+ahi</td>\n",
              "      <td>/u0FSD+ahi</td>\n",
              "    </tr>\n",
              "    <tr>\n",
              "      <th>3</th>\n",
              "      <td>Voice</td>\n",
              "      <td>56</td>\n",
              "      <td>2012-05-06 23:05:42.0</td>\n",
              "      <td>1</td>\n",
              "      <td>7370032e20f4e96</td>\n",
              "      <td>6af4a60e74c91d3</td>\n",
              "      <td>19e2e</td>\n",
              "      <td>19e2e</td>\n",
              "      <td>+cNeJzsTp3</td>\n",
              "      <td>+cNeJzsTp3</td>\n",
              "    </tr>\n",
              "    <tr>\n",
              "      <th>4</th>\n",
              "      <td>Voice</td>\n",
              "      <td>14</td>\n",
              "      <td>2012-05-06 23:06:29.0</td>\n",
              "      <td>1</td>\n",
              "      <td>966ba4656e38e62</td>\n",
              "      <td>02aa736ee555d5c</td>\n",
              "      <td>19e2e</td>\n",
              "      <td>19e2e</td>\n",
              "      <td>051KhYDCpv</td>\n",
              "      <td>051KhYDCpv</td>\n",
              "    </tr>\n",
              "    <tr>\n",
              "      <th>...</th>\n",
              "      <td>...</td>\n",
              "      <td>...</td>\n",
              "      <td>...</td>\n",
              "      <td>...</td>\n",
              "      <td>...</td>\n",
              "      <td>...</td>\n",
              "      <td>...</td>\n",
              "      <td>...</td>\n",
              "      <td>...</td>\n",
              "      <td>...</td>\n",
              "    </tr>\n",
              "    <tr>\n",
              "      <th>4996</th>\n",
              "      <td>sms</td>\n",
              "      <td>100</td>\n",
              "      <td>2012-05-07 00:01:54.0</td>\n",
              "      <td>0</td>\n",
              "      <td>92e367d671f45c5</td>\n",
              "      <td>38811081cf82c90</td>\n",
              "      <td>19e2e</td>\n",
              "      <td>OTHER</td>\n",
              "      <td>0c2371d9bc</td>\n",
              "      <td>1e751d08a4</td>\n",
              "    </tr>\n",
              "    <tr>\n",
              "      <th>4997</th>\n",
              "      <td>Voice</td>\n",
              "      <td>1</td>\n",
              "      <td>2012-05-07 00:01:54.0</td>\n",
              "      <td>1</td>\n",
              "      <td>83b44b18238e602</td>\n",
              "      <td>6ec63d4aa5de5dd</td>\n",
              "      <td>19e2e</td>\n",
              "      <td>19e2e</td>\n",
              "      <td>5fb791cf56</td>\n",
              "      <td>65efe2bc62</td>\n",
              "    </tr>\n",
              "    <tr>\n",
              "      <th>4998</th>\n",
              "      <td>Voice</td>\n",
              "      <td>0</td>\n",
              "      <td>2012-05-07 00:01:54.0</td>\n",
              "      <td>1</td>\n",
              "      <td>49fae048b547780</td>\n",
              "      <td>1a49f8b0ded9de6</td>\n",
              "      <td>19e2e</td>\n",
              "      <td>19e2e</td>\n",
              "      <td>7773627c12</td>\n",
              "      <td>9ef9616350</td>\n",
              "    </tr>\n",
              "    <tr>\n",
              "      <th>4999</th>\n",
              "      <td>Voice</td>\n",
              "      <td>0</td>\n",
              "      <td>2012-05-07 00:01:54.0</td>\n",
              "      <td>0</td>\n",
              "      <td>a1613f1a992716a</td>\n",
              "      <td>bd663f07b6c8bcd</td>\n",
              "      <td>19e2e</td>\n",
              "      <td>19e2e</td>\n",
              "      <td>3f4af49d6c</td>\n",
              "      <td>969b8d0e39</td>\n",
              "    </tr>\n",
              "    <tr>\n",
              "      <th>5000</th>\n",
              "      <td>Voice</td>\n",
              "      <td>7</td>\n",
              "      <td>2012-05-07 00:01:54.0</td>\n",
              "      <td>2</td>\n",
              "      <td>1670a5f7c22f4ed</td>\n",
              "      <td>3600efd094f2225</td>\n",
              "      <td>19e2e</td>\n",
              "      <td>19e2e</td>\n",
              "      <td>6f4d9b77a5</td>\n",
              "      <td>ebfc58af70</td>\n",
              "    </tr>\n",
              "  </tbody>\n",
              "</table>\n",
              "<p>5001 rows × 10 columns</p>\n",
              "</div>"
            ],
            "text/plain": [
              "     PRODUTC  VALUE               DATETIME  ... COUNTRY_B     CELL_ID     SITE_ID\n",
              "0      Voice      0  2012-05-06 23:04:37.0  ...     19e2e  /TJNe+Mmtu  /TJNe+Mmtu\n",
              "1        sms      0  2012-05-06 23:05:25.0  ...     19e2e  /+cKZKIp41  /+cKZKIp41\n",
              "2        sms     25  2012-05-06 23:05:41.0  ...     19e2e  /u0FSD+ahi  /u0FSD+ahi\n",
              "3      Voice     56  2012-05-06 23:05:42.0  ...     19e2e  +cNeJzsTp3  +cNeJzsTp3\n",
              "4      Voice     14  2012-05-06 23:06:29.0  ...     19e2e  051KhYDCpv  051KhYDCpv\n",
              "...      ...    ...                    ...  ...       ...         ...         ...\n",
              "4996     sms    100  2012-05-07 00:01:54.0  ...     OTHER  0c2371d9bc  1e751d08a4\n",
              "4997   Voice      1  2012-05-07 00:01:54.0  ...     19e2e  5fb791cf56  65efe2bc62\n",
              "4998   Voice      0  2012-05-07 00:01:54.0  ...     19e2e  7773627c12  9ef9616350\n",
              "4999   Voice      0  2012-05-07 00:01:54.0  ...     19e2e  3f4af49d6c  969b8d0e39\n",
              "5000   Voice      7  2012-05-07 00:01:54.0  ...     19e2e  6f4d9b77a5  ebfc58af70\n",
              "\n",
              "[5001 rows x 10 columns]"
            ]
          },
          "metadata": {
            "tags": []
          },
          "execution_count": 16
        }
      ]
    },
    {
      "cell_type": "code",
      "metadata": {
        "colab": {
          "base_uri": "https://localhost:8080/"
        },
        "id": "nDu9TDS83wTD",
        "outputId": "372af9b6-ddf0-4d5b-9ade-29b09293e087"
      },
      "source": [
        "#checking if their any missing value in my Tel1up dataset\n",
        "Tel1up.isnull().sum()"
      ],
      "execution_count": 17,
      "outputs": [
        {
          "output_type": "execute_result",
          "data": {
            "text/plain": [
              "PRODUTC            0\n",
              "VALUE              0\n",
              "DATETIME           0\n",
              "CELL_ON_SITE       0\n",
              "DW_A_NUMBER_INT    0\n",
              "DW_B_NUMBER_INT    0\n",
              "COUNTRY_A          0\n",
              "COUNTRY_B          0\n",
              "CELL_ID            0\n",
              "SITE_ID            0\n",
              "dtype: int64"
            ]
          },
          "metadata": {
            "tags": []
          },
          "execution_count": 17
        }
      ]
    },
    {
      "cell_type": "code",
      "metadata": {
        "colab": {
          "base_uri": "https://localhost:8080/",
          "height": 394
        },
        "id": "8amsM9-5YxpG",
        "outputId": "875ffe97-22e8-4187-a9ff-8928def8307c"
      },
      "source": [
        "#Taking care of missing data in my Telcom 2 Dataset \n",
        "Tel2up = Tel2.replace(np.nan, \".\", regex=True)\n",
        "Tel2up.head()"
      ],
      "execution_count": 18,
      "outputs": [
        {
          "output_type": "execute_result",
          "data": {
            "text/html": [
              "<div>\n",
              "<style scoped>\n",
              "    .dataframe tbody tr th:only-of-type {\n",
              "        vertical-align: middle;\n",
              "    }\n",
              "\n",
              "    .dataframe tbody tr th {\n",
              "        vertical-align: top;\n",
              "    }\n",
              "\n",
              "    .dataframe thead th {\n",
              "        text-align: right;\n",
              "    }\n",
              "</style>\n",
              "<table border=\"1\" class=\"dataframe\">\n",
              "  <thead>\n",
              "    <tr style=\"text-align: right;\">\n",
              "      <th></th>\n",
              "      <th>PRODUCT</th>\n",
              "      <th>VALUE</th>\n",
              "      <th>DATE_TIME</th>\n",
              "      <th>CELL_ON_SITE</th>\n",
              "      <th>DW_A_NUMBER</th>\n",
              "      <th>DW_B_NUMBER</th>\n",
              "      <th>COUNTRY_A</th>\n",
              "      <th>COUNTRY_B</th>\n",
              "      <th>CELL_ID</th>\n",
              "      <th>SITE_ID</th>\n",
              "    </tr>\n",
              "  </thead>\n",
              "  <tbody>\n",
              "    <tr>\n",
              "      <th>0</th>\n",
              "      <td>sms</td>\n",
              "      <td>0</td>\n",
              "      <td>2012-05-07 23:02:06.0</td>\n",
              "      <td>2</td>\n",
              "      <td>32255675c3b6fe3</td>\n",
              "      <td>1aa7ae01386e9fb</td>\n",
              "      <td>19e2e</td>\n",
              "      <td>19e2e</td>\n",
              "      <td>+854AcBQT2</td>\n",
              "      <td>+854AcBQT2</td>\n",
              "    </tr>\n",
              "    <tr>\n",
              "      <th>1</th>\n",
              "      <td>Voice</td>\n",
              "      <td>0</td>\n",
              "      <td>2012-05-07 23:03:44.0</td>\n",
              "      <td>1</td>\n",
              "      <td>ff16d6ac74c1c64</td>\n",
              "      <td>87d87309c15a8c9</td>\n",
              "      <td>19e2e</td>\n",
              "      <td>19e2e</td>\n",
              "      <td>+854AcBQT2</td>\n",
              "      <td>+854AcBQT2</td>\n",
              "    </tr>\n",
              "    <tr>\n",
              "      <th>2</th>\n",
              "      <td>sms</td>\n",
              "      <td>0</td>\n",
              "      <td>2012-05-07 23:04:06.0</td>\n",
              "      <td>0</td>\n",
              "      <td>98d9f2fb5ff624b</td>\n",
              "      <td>93343ba6e41af95</td>\n",
              "      <td>19e2e</td>\n",
              "      <td>19e2e</td>\n",
              "      <td>+laSrk7g6q</td>\n",
              "      <td>+laSrk7g6q</td>\n",
              "    </tr>\n",
              "    <tr>\n",
              "      <th>3</th>\n",
              "      <td>Voice</td>\n",
              "      <td>37</td>\n",
              "      <td>2012-05-07 23:04:48.0</td>\n",
              "      <td>1</td>\n",
              "      <td>3f9c8a33ec7be1f</td>\n",
              "      <td>7d05a38f89c49d8</td>\n",
              "      <td>19e2e</td>\n",
              "      <td>19e2e</td>\n",
              "      <td>/xvRrCVKoQ</td>\n",
              "      <td>/xvRrCVKoQ</td>\n",
              "    </tr>\n",
              "    <tr>\n",
              "      <th>4</th>\n",
              "      <td>sms</td>\n",
              "      <td>25</td>\n",
              "      <td>2012-05-07 23:04:58.0</td>\n",
              "      <td>1</td>\n",
              "      <td>7bcccc03adf3864</td>\n",
              "      <td>56a5d5430d2fa86</td>\n",
              "      <td>19e2e</td>\n",
              "      <td>19e2e</td>\n",
              "      <td>+bO+qkSonO</td>\n",
              "      <td>+bO+qkSonO</td>\n",
              "    </tr>\n",
              "  </tbody>\n",
              "</table>\n",
              "</div>"
            ],
            "text/plain": [
              "  PRODUCT  VALUE              DATE_TIME  ... COUNTRY_B     CELL_ID     SITE_ID\n",
              "0     sms      0  2012-05-07 23:02:06.0  ...     19e2e  +854AcBQT2  +854AcBQT2\n",
              "1   Voice      0  2012-05-07 23:03:44.0  ...     19e2e  +854AcBQT2  +854AcBQT2\n",
              "2     sms      0  2012-05-07 23:04:06.0  ...     19e2e  +laSrk7g6q  +laSrk7g6q\n",
              "3   Voice     37  2012-05-07 23:04:48.0  ...     19e2e  /xvRrCVKoQ  /xvRrCVKoQ\n",
              "4     sms     25  2012-05-07 23:04:58.0  ...     19e2e  +bO+qkSonO  +bO+qkSonO\n",
              "\n",
              "[5 rows x 10 columns]"
            ]
          },
          "metadata": {
            "tags": []
          },
          "execution_count": 18
        }
      ]
    },
    {
      "cell_type": "code",
      "metadata": {
        "colab": {
          "base_uri": "https://localhost:8080/"
        },
        "id": "GyrYZwlu32-Y",
        "outputId": "5108f2ec-2736-4ee6-f2b3-51172ac8711d"
      },
      "source": [
        "#checking if their any missing value in my Tel2up dataset\n",
        "Tel2up.isnull().sum()"
      ],
      "execution_count": 19,
      "outputs": [
        {
          "output_type": "execute_result",
          "data": {
            "text/plain": [
              "PRODUCT         0\n",
              "VALUE           0\n",
              "DATE_TIME       0\n",
              "CELL_ON_SITE    0\n",
              "DW_A_NUMBER     0\n",
              "DW_B_NUMBER     0\n",
              "COUNTRY_A       0\n",
              "COUNTRY_B       0\n",
              "CELL_ID         0\n",
              "SITE_ID         0\n",
              "dtype: int64"
            ]
          },
          "metadata": {
            "tags": []
          },
          "execution_count": 19
        }
      ]
    },
    {
      "cell_type": "code",
      "metadata": {
        "colab": {
          "base_uri": "https://localhost:8080/",
          "height": 779
        },
        "id": "7mX8gGkXYx6G",
        "outputId": "6ff24243-3694-4e52-89a8-26a8a3897d4f"
      },
      "source": [
        "#Taking care of missing data in my Telcom 3 Dataset \n",
        "Tel3up = Tel3.replace(np.nan, \".\", regex=True)\n",
        "Tel3up"
      ],
      "execution_count": 20,
      "outputs": [
        {
          "output_type": "execute_result",
          "data": {
            "text/html": [
              "<div>\n",
              "<style scoped>\n",
              "    .dataframe tbody tr th:only-of-type {\n",
              "        vertical-align: middle;\n",
              "    }\n",
              "\n",
              "    .dataframe tbody tr th {\n",
              "        vertical-align: top;\n",
              "    }\n",
              "\n",
              "    .dataframe thead th {\n",
              "        text-align: right;\n",
              "    }\n",
              "</style>\n",
              "<table border=\"1\" class=\"dataframe\">\n",
              "  <thead>\n",
              "    <tr style=\"text-align: right;\">\n",
              "      <th></th>\n",
              "      <th>PRODUCT</th>\n",
              "      <th>VALUE</th>\n",
              "      <th>DATE_TIME</th>\n",
              "      <th>CELL_ON_SITE</th>\n",
              "      <th>DW_A_NUMBER_INT</th>\n",
              "      <th>DW_B_NUMBER_INT</th>\n",
              "      <th>COUNTRY_A</th>\n",
              "      <th>COUNTRY_B</th>\n",
              "      <th>CELLID</th>\n",
              "      <th>SIET_ID</th>\n",
              "    </tr>\n",
              "  </thead>\n",
              "  <tbody>\n",
              "    <tr>\n",
              "      <th>0</th>\n",
              "      <td>Voice</td>\n",
              "      <td>61</td>\n",
              "      <td>2012-05-08 23:01:28.0</td>\n",
              "      <td>2</td>\n",
              "      <td>966f68353622feb</td>\n",
              "      <td>ffd53a3bb2db6f1</td>\n",
              "      <td>19e2e</td>\n",
              "      <td>19e2e</td>\n",
              "      <td>+38u2u/rfx</td>\n",
              "      <td>+38u2u/rfx</td>\n",
              "    </tr>\n",
              "    <tr>\n",
              "      <th>1</th>\n",
              "      <td>sms</td>\n",
              "      <td>0</td>\n",
              "      <td>2012-05-08 23:01:31.0</td>\n",
              "      <td>1</td>\n",
              "      <td>a0a597384c612d7</td>\n",
              "      <td>cf3b218f1dde792</td>\n",
              "      <td>19e2e</td>\n",
              "      <td>19e2e</td>\n",
              "      <td>+Fs4mTvdKx</td>\n",
              "      <td>+Fs4mTvdKx</td>\n",
              "    </tr>\n",
              "    <tr>\n",
              "      <th>2</th>\n",
              "      <td>Voice</td>\n",
              "      <td>10</td>\n",
              "      <td>2012-05-08 23:02:59.0</td>\n",
              "      <td>1</td>\n",
              "      <td>5441a9a58c97132</td>\n",
              "      <td>52f8b299515b9b7</td>\n",
              "      <td>19e2e</td>\n",
              "      <td>19e2e</td>\n",
              "      <td>+ZaaZozy/+</td>\n",
              "      <td>+ZaaZozy/+</td>\n",
              "    </tr>\n",
              "    <tr>\n",
              "      <th>3</th>\n",
              "      <td>sms</td>\n",
              "      <td>0</td>\n",
              "      <td>2012-05-08 23:03:04.0</td>\n",
              "      <td>0</td>\n",
              "      <td>8ab8b9ed6989f61</td>\n",
              "      <td>e09e736e46c5c3d</td>\n",
              "      <td>19e2e</td>\n",
              "      <td>19e2e</td>\n",
              "      <td>+cNeJzsTp3</td>\n",
              "      <td>+cNeJzsTp3</td>\n",
              "    </tr>\n",
              "    <tr>\n",
              "      <th>4</th>\n",
              "      <td>Voice</td>\n",
              "      <td>22</td>\n",
              "      <td>2012-05-08 23:03:16.0</td>\n",
              "      <td>4</td>\n",
              "      <td>52662a62b199334</td>\n",
              "      <td>2186273faab4602</td>\n",
              "      <td>19e2e</td>\n",
              "      <td>19e2e</td>\n",
              "      <td>/eeMklgyJA</td>\n",
              "      <td>/eeMklgyJA</td>\n",
              "    </tr>\n",
              "    <tr>\n",
              "      <th>...</th>\n",
              "      <td>...</td>\n",
              "      <td>...</td>\n",
              "      <td>...</td>\n",
              "      <td>...</td>\n",
              "      <td>...</td>\n",
              "      <td>...</td>\n",
              "      <td>...</td>\n",
              "      <td>...</td>\n",
              "      <td>...</td>\n",
              "      <td>...</td>\n",
              "    </tr>\n",
              "    <tr>\n",
              "      <th>4996</th>\n",
              "      <td>Voice</td>\n",
              "      <td>0</td>\n",
              "      <td>2012-05-09 00:01:43.0</td>\n",
              "      <td>3</td>\n",
              "      <td>467333ade2b4b9c</td>\n",
              "      <td>0ab2acd804d01fe</td>\n",
              "      <td>19e2e</td>\n",
              "      <td>19e2e</td>\n",
              "      <td>2aa04dcab7</td>\n",
              "      <td>f7d63a29e5</td>\n",
              "    </tr>\n",
              "    <tr>\n",
              "      <th>4997</th>\n",
              "      <td>Voice</td>\n",
              "      <td>62</td>\n",
              "      <td>2012-05-09 00:01:43.0</td>\n",
              "      <td>1</td>\n",
              "      <td>e077a6b74c5053c</td>\n",
              "      <td>4c8098eb6ea1a41</td>\n",
              "      <td>19e2e</td>\n",
              "      <td>19e2e</td>\n",
              "      <td>7f1f2f889f</td>\n",
              "      <td>b4ddb9e93c</td>\n",
              "    </tr>\n",
              "    <tr>\n",
              "      <th>4998</th>\n",
              "      <td>Voice</td>\n",
              "      <td>32</td>\n",
              "      <td>2012-05-09 00:01:43.0</td>\n",
              "      <td>1</td>\n",
              "      <td>77f53c39d27c050</td>\n",
              "      <td>9d064f013e2cab2</td>\n",
              "      <td>19e2e</td>\n",
              "      <td>19e2e</td>\n",
              "      <td>a4731e780e</td>\n",
              "      <td>d68260ef50</td>\n",
              "    </tr>\n",
              "    <tr>\n",
              "      <th>4999</th>\n",
              "      <td>Voice</td>\n",
              "      <td>30</td>\n",
              "      <td>2012-05-09 00:01:43.0</td>\n",
              "      <td>2</td>\n",
              "      <td>672ce74c418aa7a</td>\n",
              "      <td>f9ff5af59cf0d68</td>\n",
              "      <td>19e2e</td>\n",
              "      <td>19e2e</td>\n",
              "      <td>98ed726da2</td>\n",
              "      <td>b4130b54ab</td>\n",
              "    </tr>\n",
              "    <tr>\n",
              "      <th>5000</th>\n",
              "      <td>Voice</td>\n",
              "      <td>60</td>\n",
              "      <td>2012-05-09 00:01:43.0</td>\n",
              "      <td>2</td>\n",
              "      <td>6edeb4c55714650</td>\n",
              "      <td>7e60838216482a7</td>\n",
              "      <td>19e2e</td>\n",
              "      <td>19e2e</td>\n",
              "      <td>1c11a2fcbb</td>\n",
              "      <td>6d70dae094</td>\n",
              "    </tr>\n",
              "  </tbody>\n",
              "</table>\n",
              "<p>5001 rows × 10 columns</p>\n",
              "</div>"
            ],
            "text/plain": [
              "     PRODUCT  VALUE              DATE_TIME  ... COUNTRY_B      CELLID     SIET_ID\n",
              "0      Voice     61  2012-05-08 23:01:28.0  ...     19e2e  +38u2u/rfx  +38u2u/rfx\n",
              "1        sms      0  2012-05-08 23:01:31.0  ...     19e2e  +Fs4mTvdKx  +Fs4mTvdKx\n",
              "2      Voice     10  2012-05-08 23:02:59.0  ...     19e2e  +ZaaZozy/+  +ZaaZozy/+\n",
              "3        sms      0  2012-05-08 23:03:04.0  ...     19e2e  +cNeJzsTp3  +cNeJzsTp3\n",
              "4      Voice     22  2012-05-08 23:03:16.0  ...     19e2e  /eeMklgyJA  /eeMklgyJA\n",
              "...      ...    ...                    ...  ...       ...         ...         ...\n",
              "4996   Voice      0  2012-05-09 00:01:43.0  ...     19e2e  2aa04dcab7  f7d63a29e5\n",
              "4997   Voice     62  2012-05-09 00:01:43.0  ...     19e2e  7f1f2f889f  b4ddb9e93c\n",
              "4998   Voice     32  2012-05-09 00:01:43.0  ...     19e2e  a4731e780e  d68260ef50\n",
              "4999   Voice     30  2012-05-09 00:01:43.0  ...     19e2e  98ed726da2  b4130b54ab\n",
              "5000   Voice     60  2012-05-09 00:01:43.0  ...     19e2e  1c11a2fcbb  6d70dae094\n",
              "\n",
              "[5001 rows x 10 columns]"
            ]
          },
          "metadata": {
            "tags": []
          },
          "execution_count": 20
        }
      ]
    },
    {
      "cell_type": "code",
      "metadata": {
        "colab": {
          "base_uri": "https://localhost:8080/"
        },
        "id": "mUvhW2nh36fe",
        "outputId": "3f7e89c7-7e68-45b9-e7a6-1080fdab1603"
      },
      "source": [
        "#checking if their any missing value in my Tel3up dataset\n",
        "Tel3up.isnull().sum()"
      ],
      "execution_count": 21,
      "outputs": [
        {
          "output_type": "execute_result",
          "data": {
            "text/plain": [
              "PRODUCT            0\n",
              "VALUE              0\n",
              "DATE_TIME          0\n",
              "CELL_ON_SITE       0\n",
              "DW_A_NUMBER_INT    0\n",
              "DW_B_NUMBER_INT    0\n",
              "COUNTRY_A          0\n",
              "COUNTRY_B          0\n",
              "CELLID             0\n",
              "SIET_ID            0\n",
              "dtype: int64"
            ]
          },
          "metadata": {
            "tags": []
          },
          "execution_count": 21
        }
      ]
    },
    {
      "cell_type": "markdown",
      "metadata": {
        "id": "F7v8edL7-STz"
      },
      "source": [
        "2. **Taking care of duplicate values**"
      ]
    },
    {
      "cell_type": "code",
      "metadata": {
        "colab": {
          "base_uri": "https://localhost:8080/"
        },
        "id": "87znnG0kZ8s8",
        "outputId": "09fc4671-c59f-42bd-b86e-0b04125fdfba"
      },
      "source": [
        "#cheking for duplicate values in my cell_geo dataset \n",
        "geo2.duplicated().sum()"
      ],
      "execution_count": 22,
      "outputs": [
        {
          "output_type": "execute_result",
          "data": {
            "text/plain": [
              "43"
            ]
          },
          "metadata": {
            "tags": []
          },
          "execution_count": 22
        }
      ]
    },
    {
      "cell_type": "code",
      "metadata": {
        "colab": {
          "base_uri": "https://localhost:8080/"
        },
        "id": "LRxk5M8l4Y4i",
        "outputId": "2d65297e-650b-4250-d09a-1d27c31d6c35"
      },
      "source": [
        "#dropping the duplicates in my geo2 dataset and cheking if there any duplicates left \n",
        "geo3 = geo2.drop_duplicates()\n",
        "geo3.duplicated().sum()"
      ],
      "execution_count": 23,
      "outputs": [
        {
          "output_type": "execute_result",
          "data": {
            "text/plain": [
              "0"
            ]
          },
          "metadata": {
            "tags": []
          },
          "execution_count": 23
        }
      ]
    },
    {
      "cell_type": "code",
      "metadata": {
        "colab": {
          "base_uri": "https://localhost:8080/"
        },
        "id": "zPag2cJIxWXI",
        "outputId": "e064438d-5b03-42a2-b988-ec632c78167a"
      },
      "source": [
        "#cheking for duplicate values in my Tel1 dataset \n",
        "#dropping the duplicates\n",
        "Tel1up.duplicated().sum()"
      ],
      "execution_count": 24,
      "outputs": [
        {
          "output_type": "execute_result",
          "data": {
            "text/plain": [
              "82"
            ]
          },
          "metadata": {
            "tags": []
          },
          "execution_count": 24
        }
      ]
    },
    {
      "cell_type": "code",
      "metadata": {
        "colab": {
          "base_uri": "https://localhost:8080/"
        },
        "id": "GNdGnqtR8gI2",
        "outputId": "2602dac7-7c69-418a-e80c-cee678f256d5"
      },
      "source": [
        "#dropping the duplicates in my tel1up dataset and cheking if there any duplicates left \n",
        "Tel1upd = Tel1up.drop_duplicates()\n",
        "Tel1upd.duplicated().sum()"
      ],
      "execution_count": 25,
      "outputs": [
        {
          "output_type": "execute_result",
          "data": {
            "text/plain": [
              "0"
            ]
          },
          "metadata": {
            "tags": []
          },
          "execution_count": 25
        }
      ]
    },
    {
      "cell_type": "code",
      "metadata": {
        "colab": {
          "base_uri": "https://localhost:8080/"
        },
        "id": "vFFB_bDyxWfY",
        "outputId": "75ceb966-62e8-4f78-fecd-427a2cf25175"
      },
      "source": [
        "#cheking for duplicate values in my Tel2 dataset \n",
        "Tel2up.duplicated().sum()"
      ],
      "execution_count": 26,
      "outputs": [
        {
          "output_type": "execute_result",
          "data": {
            "text/plain": [
              "78"
            ]
          },
          "metadata": {
            "tags": []
          },
          "execution_count": 26
        }
      ]
    },
    {
      "cell_type": "code",
      "metadata": {
        "colab": {
          "base_uri": "https://localhost:8080/"
        },
        "id": "tJRk3fLL8xhX",
        "outputId": "eb35e31a-2cc9-4993-b7db-713e897d80b9"
      },
      "source": [
        "#dropping the duplicates in my Tel2up  dataset and cheking if there any duplicates left \n",
        "Tel2upd = Tel2up.drop_duplicates()\n",
        "Tel2upd.duplicated().sum()"
      ],
      "execution_count": 27,
      "outputs": [
        {
          "output_type": "execute_result",
          "data": {
            "text/plain": [
              "0"
            ]
          },
          "metadata": {
            "tags": []
          },
          "execution_count": 27
        }
      ]
    },
    {
      "cell_type": "code",
      "metadata": {
        "colab": {
          "base_uri": "https://localhost:8080/"
        },
        "id": "3Hrz3BTrxWrD",
        "outputId": "94fcef1e-bf45-4a21-f2b3-311f1ef63f9f"
      },
      "source": [
        "#cheking for duplicate values in my Tel3 dataset \n",
        "#dropping the duplicates\n",
        "Tel3up.duplicated().sum()"
      ],
      "execution_count": 28,
      "outputs": [
        {
          "output_type": "execute_result",
          "data": {
            "text/plain": [
              "93"
            ]
          },
          "metadata": {
            "tags": []
          },
          "execution_count": 28
        }
      ]
    },
    {
      "cell_type": "code",
      "metadata": {
        "colab": {
          "base_uri": "https://localhost:8080/"
        },
        "id": "QZ2Y8NMq893t",
        "outputId": "c1770108-1e00-48dd-94a3-bf75dceee3be"
      },
      "source": [
        "#dropping the duplicates in my Tel3up dataset and cheking if there any duplicates left \n",
        "Tel3upd = Tel3up.drop_duplicates()\n",
        "Tel3upd.duplicated().sum()"
      ],
      "execution_count": 29,
      "outputs": [
        {
          "output_type": "execute_result",
          "data": {
            "text/plain": [
              "0"
            ]
          },
          "metadata": {
            "tags": []
          },
          "execution_count": 29
        }
      ]
    },
    {
      "cell_type": "markdown",
      "metadata": {
        "id": "6DYvQrLI_Fzs"
      },
      "source": [
        "3. **Dropping unnecessary column in the dataset**\n"
      ]
    },
    {
      "cell_type": "code",
      "metadata": {
        "colab": {
          "base_uri": "https://localhost:8080/"
        },
        "id": "nhsFpvle_QJl",
        "outputId": "176b51f8-c119-489e-fd01-382eb4be3a03"
      },
      "source": [
        "#cheking the columns in my geo3 dataset \n",
        "geo3.head()\n",
        "\n",
        "# Columns such as Site_code, latitude, longitude will not help in seeing where the cells were most used in the cities we can go ahead \n",
        "#and drop these column \n",
        "geo3.drop(columns=[\"LONGITUDE\", \"LATITUDE\", \"CELL_ID\"], axis=1, inplace=True)"
      ],
      "execution_count": 30,
      "outputs": [
        {
          "output_type": "stream",
          "text": [
            "/usr/local/lib/python3.7/dist-packages/pandas/core/frame.py:4174: SettingWithCopyWarning: \n",
            "A value is trying to be set on a copy of a slice from a DataFrame\n",
            "\n",
            "See the caveats in the documentation: https://pandas.pydata.org/pandas-docs/stable/user_guide/indexing.html#returning-a-view-versus-a-copy\n",
            "  errors=errors,\n"
          ],
          "name": "stderr"
        }
      ]
    },
    {
      "cell_type": "code",
      "metadata": {
        "colab": {
          "base_uri": "https://localhost:8080/",
          "height": 419
        },
        "id": "EljRFflQAX9H",
        "outputId": "4f736b68-3e82-4c0f-a86a-d337ac4cdd1a"
      },
      "source": [
        "#Cheking to see whether the columns have been deleted\n",
        "geo3\n",
        "\n",
        "#Renaming my site_code column to match all the other datasets \n",
        "geo4 = geo3.rename(columns={'SITE_CODE': 'SITE_ID'})\n",
        "geo4                 "
      ],
      "execution_count": 31,
      "outputs": [
        {
          "output_type": "execute_result",
          "data": {
            "text/html": [
              "<div>\n",
              "<style scoped>\n",
              "    .dataframe tbody tr th:only-of-type {\n",
              "        vertical-align: middle;\n",
              "    }\n",
              "\n",
              "    .dataframe tbody tr th {\n",
              "        vertical-align: top;\n",
              "    }\n",
              "\n",
              "    .dataframe thead th {\n",
              "        text-align: right;\n",
              "    }\n",
              "</style>\n",
              "<table border=\"1\" class=\"dataframe\">\n",
              "  <thead>\n",
              "    <tr style=\"text-align: right;\">\n",
              "      <th></th>\n",
              "      <th>VILLES</th>\n",
              "      <th>STATUS</th>\n",
              "      <th>LOCALISATION</th>\n",
              "      <th>DECOUPZONE</th>\n",
              "      <th>ZONENAME</th>\n",
              "      <th>REGION</th>\n",
              "      <th>AREA</th>\n",
              "      <th>SITE_ID</th>\n",
              "    </tr>\n",
              "  </thead>\n",
              "  <tbody>\n",
              "    <tr>\n",
              "      <th>0</th>\n",
              "      <td>ADJAME</td>\n",
              "      <td>In Service</td>\n",
              "      <td>ABIDJAN</td>\n",
              "      <td>\"Abidjan_EST</td>\n",
              "      <td>AGBANNEW</td>\n",
              "      <td>LAGUNE</td>\n",
              "      <td>.</td>\n",
              "      <td>0bb492ef17</td>\n",
              "    </tr>\n",
              "    <tr>\n",
              "      <th>1</th>\n",
              "      <td>ADJAME</td>\n",
              "      <td>In Service</td>\n",
              "      <td>ABIDJAN</td>\n",
              "      <td>\"Abidjan_EST</td>\n",
              "      <td>AGBANNEW</td>\n",
              "      <td>LAGUNE</td>\n",
              "      <td>.</td>\n",
              "      <td>0bb492ef17</td>\n",
              "    </tr>\n",
              "    <tr>\n",
              "      <th>2</th>\n",
              "      <td>ADJAME</td>\n",
              "      <td>In Service</td>\n",
              "      <td>ABIDJAN</td>\n",
              "      <td>\"Abidjan_EST</td>\n",
              "      <td>AGBANNEW</td>\n",
              "      <td>LAGUNE</td>\n",
              "      <td>.</td>\n",
              "      <td>0bb492ef17</td>\n",
              "    </tr>\n",
              "    <tr>\n",
              "      <th>3</th>\n",
              "      <td>ASSINIE</td>\n",
              "      <td>In Service</td>\n",
              "      <td>INTERIEUR</td>\n",
              "      <td>Grand-EST</td>\n",
              "      <td>ASSINIE\"</td>\n",
              "      <td>SUD COMOE</td>\n",
              "      <td>.</td>\n",
              "      <td>8a1e6ce31f</td>\n",
              "    </tr>\n",
              "    <tr>\n",
              "      <th>4</th>\n",
              "      <td>ASSINIE</td>\n",
              "      <td>In Service</td>\n",
              "      <td>INTERIEUR</td>\n",
              "      <td>Grand-EST</td>\n",
              "      <td>ASSINIE\"</td>\n",
              "      <td>SUD COMOE</td>\n",
              "      <td>.</td>\n",
              "      <td>8a1e6ce31f</td>\n",
              "    </tr>\n",
              "    <tr>\n",
              "      <th>...</th>\n",
              "      <td>...</td>\n",
              "      <td>...</td>\n",
              "      <td>...</td>\n",
              "      <td>...</td>\n",
              "      <td>...</td>\n",
              "      <td>...</td>\n",
              "      <td>...</td>\n",
              "      <td>...</td>\n",
              "    </tr>\n",
              "    <tr>\n",
              "      <th>3969</th>\n",
              "      <td>ZUENOULA</td>\n",
              "      <td>In Service</td>\n",
              "      <td>INTERIEUR</td>\n",
              "      <td>Grand-NORD</td>\n",
              "      <td>ZONE A - Grand-NORD</td>\n",
              "      <td>MARAHOUE</td>\n",
              "      <td>CENTRE NORTH</td>\n",
              "      <td>f91ed8d2e9</td>\n",
              "    </tr>\n",
              "    <tr>\n",
              "      <th>3970</th>\n",
              "      <td>ZUENOULA</td>\n",
              "      <td>In Service</td>\n",
              "      <td>INTERIEUR</td>\n",
              "      <td>Grand-NORD</td>\n",
              "      <td>ZONE A - Grand-NORD</td>\n",
              "      <td>MARAHOUE</td>\n",
              "      <td>CENTRE NORTH</td>\n",
              "      <td>f91ed8d2e9</td>\n",
              "    </tr>\n",
              "    <tr>\n",
              "      <th>3971</th>\n",
              "      <td>ZUENOULA</td>\n",
              "      <td>In Service</td>\n",
              "      <td>INTERIEUR</td>\n",
              "      <td>Grand-NORD</td>\n",
              "      <td>ZONE A - Grand-NORD</td>\n",
              "      <td>MARAHOUE</td>\n",
              "      <td>CENTRE NORTH</td>\n",
              "      <td>61bee9c70c</td>\n",
              "    </tr>\n",
              "    <tr>\n",
              "      <th>3972</th>\n",
              "      <td>ZUENOULA</td>\n",
              "      <td>In Service</td>\n",
              "      <td>INTERIEUR</td>\n",
              "      <td>Grand-NORD</td>\n",
              "      <td>ZONE A - Grand-NORD</td>\n",
              "      <td>MARAHOUE</td>\n",
              "      <td>CENTRE NORTH</td>\n",
              "      <td>61bee9c70c</td>\n",
              "    </tr>\n",
              "    <tr>\n",
              "      <th>3973</th>\n",
              "      <td>ZUENOULA</td>\n",
              "      <td>In Service</td>\n",
              "      <td>INTERIEUR</td>\n",
              "      <td>Grand-NORD</td>\n",
              "      <td>ZONE A - Grand-NORD</td>\n",
              "      <td>MARAHOUE</td>\n",
              "      <td>CENTRE NORTH</td>\n",
              "      <td>61bee9c70c</td>\n",
              "    </tr>\n",
              "  </tbody>\n",
              "</table>\n",
              "<p>3931 rows × 8 columns</p>\n",
              "</div>"
            ],
            "text/plain": [
              "        VILLES      STATUS LOCALISATION  ...     REGION          AREA     SITE_ID\n",
              "0       ADJAME  In Service      ABIDJAN  ...     LAGUNE             .  0bb492ef17\n",
              "1       ADJAME  In Service      ABIDJAN  ...     LAGUNE             .  0bb492ef17\n",
              "2       ADJAME  In Service      ABIDJAN  ...     LAGUNE             .  0bb492ef17\n",
              "3      ASSINIE  In Service    INTERIEUR  ...  SUD COMOE             .  8a1e6ce31f\n",
              "4      ASSINIE  In Service    INTERIEUR  ...  SUD COMOE             .  8a1e6ce31f\n",
              "...        ...         ...          ...  ...        ...           ...         ...\n",
              "3969  ZUENOULA  In Service    INTERIEUR  ...   MARAHOUE  CENTRE NORTH  f91ed8d2e9\n",
              "3970  ZUENOULA  In Service    INTERIEUR  ...   MARAHOUE  CENTRE NORTH  f91ed8d2e9\n",
              "3971  ZUENOULA  In Service    INTERIEUR  ...   MARAHOUE  CENTRE NORTH  61bee9c70c\n",
              "3972  ZUENOULA  In Service    INTERIEUR  ...   MARAHOUE  CENTRE NORTH  61bee9c70c\n",
              "3973  ZUENOULA  In Service    INTERIEUR  ...   MARAHOUE  CENTRE NORTH  61bee9c70c\n",
              "\n",
              "[3931 rows x 8 columns]"
            ]
          },
          "metadata": {
            "tags": []
          },
          "execution_count": 31
        }
      ]
    },
    {
      "cell_type": "markdown",
      "metadata": {
        "id": "1POcgkJDL7CU"
      },
      "source": [
        "  b) **. Dropping in Telcome datasets**"
      ]
    },
    {
      "cell_type": "code",
      "metadata": {
        "colab": {
          "base_uri": "https://localhost:8080/"
        },
        "id": "jrlAnCw6Hv9G",
        "outputId": "703253d0-c71f-4b95-d9eb-d1f034f94bf6"
      },
      "source": [
        "#cheking the columns in my tel1 dataset \n",
        "Tel1upd.head()\n",
        "\n",
        "#Columns such as DW_A_NUMBER_INT,\tDW_B_NUMBER_INT,\tCOUNTRY_A,\tCOUNTRY_B,\tCELL_ID,\tSITE_ID are not needed to find out which cells were most used in the cities\n",
        "Tel1upd.drop(columns= [\"DW_A_NUMBER_INT\",\t\"DW_B_NUMBER_INT\",\t\"COUNTRY_A\",\t\"COUNTRY_B\", \"CELL_ID\"], axis= 1, inplace= True)"
      ],
      "execution_count": 32,
      "outputs": [
        {
          "output_type": "stream",
          "text": [
            "/usr/local/lib/python3.7/dist-packages/pandas/core/frame.py:4174: SettingWithCopyWarning: \n",
            "A value is trying to be set on a copy of a slice from a DataFrame\n",
            "\n",
            "See the caveats in the documentation: https://pandas.pydata.org/pandas-docs/stable/user_guide/indexing.html#returning-a-view-versus-a-copy\n",
            "  errors=errors,\n"
          ],
          "name": "stderr"
        }
      ]
    },
    {
      "cell_type": "code",
      "metadata": {
        "colab": {
          "base_uri": "https://localhost:8080/",
          "height": 419
        },
        "id": "ACJFbV8wJoew",
        "outputId": "8196f18e-5863-4653-94e6-8571c5ca7448"
      },
      "source": [
        "#Cheking to see whether the columns have been deleted\n",
        "Tel1upd\n",
        "#renaming the cell id column to match the other telecome datasets \n",
        "Tel1upda = Tel1upd.rename(columns={'PRODUTC': 'PRODUCT'})\n",
        "Tel1upda     "
      ],
      "execution_count": 33,
      "outputs": [
        {
          "output_type": "execute_result",
          "data": {
            "text/html": [
              "<div>\n",
              "<style scoped>\n",
              "    .dataframe tbody tr th:only-of-type {\n",
              "        vertical-align: middle;\n",
              "    }\n",
              "\n",
              "    .dataframe tbody tr th {\n",
              "        vertical-align: top;\n",
              "    }\n",
              "\n",
              "    .dataframe thead th {\n",
              "        text-align: right;\n",
              "    }\n",
              "</style>\n",
              "<table border=\"1\" class=\"dataframe\">\n",
              "  <thead>\n",
              "    <tr style=\"text-align: right;\">\n",
              "      <th></th>\n",
              "      <th>PRODUCT</th>\n",
              "      <th>VALUE</th>\n",
              "      <th>DATETIME</th>\n",
              "      <th>CELL_ON_SITE</th>\n",
              "      <th>SITE_ID</th>\n",
              "    </tr>\n",
              "  </thead>\n",
              "  <tbody>\n",
              "    <tr>\n",
              "      <th>0</th>\n",
              "      <td>Voice</td>\n",
              "      <td>0</td>\n",
              "      <td>2012-05-06 23:04:37.0</td>\n",
              "      <td>1</td>\n",
              "      <td>/TJNe+Mmtu</td>\n",
              "    </tr>\n",
              "    <tr>\n",
              "      <th>1</th>\n",
              "      <td>sms</td>\n",
              "      <td>0</td>\n",
              "      <td>2012-05-06 23:05:25.0</td>\n",
              "      <td>0</td>\n",
              "      <td>/+cKZKIp41</td>\n",
              "    </tr>\n",
              "    <tr>\n",
              "      <th>2</th>\n",
              "      <td>sms</td>\n",
              "      <td>25</td>\n",
              "      <td>2012-05-06 23:05:41.0</td>\n",
              "      <td>0</td>\n",
              "      <td>/u0FSD+ahi</td>\n",
              "    </tr>\n",
              "    <tr>\n",
              "      <th>3</th>\n",
              "      <td>Voice</td>\n",
              "      <td>56</td>\n",
              "      <td>2012-05-06 23:05:42.0</td>\n",
              "      <td>1</td>\n",
              "      <td>+cNeJzsTp3</td>\n",
              "    </tr>\n",
              "    <tr>\n",
              "      <th>4</th>\n",
              "      <td>Voice</td>\n",
              "      <td>14</td>\n",
              "      <td>2012-05-06 23:06:29.0</td>\n",
              "      <td>1</td>\n",
              "      <td>051KhYDCpv</td>\n",
              "    </tr>\n",
              "    <tr>\n",
              "      <th>...</th>\n",
              "      <td>...</td>\n",
              "      <td>...</td>\n",
              "      <td>...</td>\n",
              "      <td>...</td>\n",
              "      <td>...</td>\n",
              "    </tr>\n",
              "    <tr>\n",
              "      <th>4996</th>\n",
              "      <td>sms</td>\n",
              "      <td>100</td>\n",
              "      <td>2012-05-07 00:01:54.0</td>\n",
              "      <td>0</td>\n",
              "      <td>1e751d08a4</td>\n",
              "    </tr>\n",
              "    <tr>\n",
              "      <th>4997</th>\n",
              "      <td>Voice</td>\n",
              "      <td>1</td>\n",
              "      <td>2012-05-07 00:01:54.0</td>\n",
              "      <td>1</td>\n",
              "      <td>65efe2bc62</td>\n",
              "    </tr>\n",
              "    <tr>\n",
              "      <th>4998</th>\n",
              "      <td>Voice</td>\n",
              "      <td>0</td>\n",
              "      <td>2012-05-07 00:01:54.0</td>\n",
              "      <td>1</td>\n",
              "      <td>9ef9616350</td>\n",
              "    </tr>\n",
              "    <tr>\n",
              "      <th>4999</th>\n",
              "      <td>Voice</td>\n",
              "      <td>0</td>\n",
              "      <td>2012-05-07 00:01:54.0</td>\n",
              "      <td>0</td>\n",
              "      <td>969b8d0e39</td>\n",
              "    </tr>\n",
              "    <tr>\n",
              "      <th>5000</th>\n",
              "      <td>Voice</td>\n",
              "      <td>7</td>\n",
              "      <td>2012-05-07 00:01:54.0</td>\n",
              "      <td>2</td>\n",
              "      <td>ebfc58af70</td>\n",
              "    </tr>\n",
              "  </tbody>\n",
              "</table>\n",
              "<p>4919 rows × 5 columns</p>\n",
              "</div>"
            ],
            "text/plain": [
              "     PRODUCT  VALUE               DATETIME CELL_ON_SITE     SITE_ID\n",
              "0      Voice      0  2012-05-06 23:04:37.0            1  /TJNe+Mmtu\n",
              "1        sms      0  2012-05-06 23:05:25.0            0  /+cKZKIp41\n",
              "2        sms     25  2012-05-06 23:05:41.0            0  /u0FSD+ahi\n",
              "3      Voice     56  2012-05-06 23:05:42.0            1  +cNeJzsTp3\n",
              "4      Voice     14  2012-05-06 23:06:29.0            1  051KhYDCpv\n",
              "...      ...    ...                    ...          ...         ...\n",
              "4996     sms    100  2012-05-07 00:01:54.0            0  1e751d08a4\n",
              "4997   Voice      1  2012-05-07 00:01:54.0            1  65efe2bc62\n",
              "4998   Voice      0  2012-05-07 00:01:54.0            1  9ef9616350\n",
              "4999   Voice      0  2012-05-07 00:01:54.0            0  969b8d0e39\n",
              "5000   Voice      7  2012-05-07 00:01:54.0            2  ebfc58af70\n",
              "\n",
              "[4919 rows x 5 columns]"
            ]
          },
          "metadata": {
            "tags": []
          },
          "execution_count": 33
        }
      ]
    },
    {
      "cell_type": "code",
      "metadata": {
        "colab": {
          "base_uri": "https://localhost:8080/"
        },
        "id": "Sh_NxoxGKHwr",
        "outputId": "58ad2b9f-d86c-4ffd-e0db-2c774f58b50e"
      },
      "source": [
        "#cheking the columns in my tel1 dataset \n",
        "Tel2upd.head()\n",
        "\n",
        "#Columns such as DW_A_NUMBER,\tDW_B_NUMBER,\tCOUNTRY_A,\tCOUNTRY_B,\tCELL_ID,\tSITE_ID are not needed to find out which cells were most used in the cities\n",
        "Tel2upd.drop(columns= [\"DW_A_NUMBER\",\t\"DW_B_NUMBER\",\t\"COUNTRY_A\",\t\"COUNTRY_B\", \"CELL_ID\"], axis= 1, inplace= True)"
      ],
      "execution_count": 34,
      "outputs": [
        {
          "output_type": "stream",
          "text": [
            "/usr/local/lib/python3.7/dist-packages/pandas/core/frame.py:4174: SettingWithCopyWarning: \n",
            "A value is trying to be set on a copy of a slice from a DataFrame\n",
            "\n",
            "See the caveats in the documentation: https://pandas.pydata.org/pandas-docs/stable/user_guide/indexing.html#returning-a-view-versus-a-copy\n",
            "  errors=errors,\n"
          ],
          "name": "stderr"
        }
      ]
    },
    {
      "cell_type": "code",
      "metadata": {
        "colab": {
          "base_uri": "https://localhost:8080/",
          "height": 419
        },
        "id": "2wS8Npf0KeqT",
        "outputId": "bfbfa8f6-fcdf-49d6-e330-2c5483fe06da"
      },
      "source": [
        "#Cheking to see whether the columns have been deleted\n",
        "Tel2upd"
      ],
      "execution_count": 35,
      "outputs": [
        {
          "output_type": "execute_result",
          "data": {
            "text/html": [
              "<div>\n",
              "<style scoped>\n",
              "    .dataframe tbody tr th:only-of-type {\n",
              "        vertical-align: middle;\n",
              "    }\n",
              "\n",
              "    .dataframe tbody tr th {\n",
              "        vertical-align: top;\n",
              "    }\n",
              "\n",
              "    .dataframe thead th {\n",
              "        text-align: right;\n",
              "    }\n",
              "</style>\n",
              "<table border=\"1\" class=\"dataframe\">\n",
              "  <thead>\n",
              "    <tr style=\"text-align: right;\">\n",
              "      <th></th>\n",
              "      <th>PRODUCT</th>\n",
              "      <th>VALUE</th>\n",
              "      <th>DATE_TIME</th>\n",
              "      <th>CELL_ON_SITE</th>\n",
              "      <th>SITE_ID</th>\n",
              "    </tr>\n",
              "  </thead>\n",
              "  <tbody>\n",
              "    <tr>\n",
              "      <th>0</th>\n",
              "      <td>sms</td>\n",
              "      <td>0</td>\n",
              "      <td>2012-05-07 23:02:06.0</td>\n",
              "      <td>2</td>\n",
              "      <td>+854AcBQT2</td>\n",
              "    </tr>\n",
              "    <tr>\n",
              "      <th>1</th>\n",
              "      <td>Voice</td>\n",
              "      <td>0</td>\n",
              "      <td>2012-05-07 23:03:44.0</td>\n",
              "      <td>1</td>\n",
              "      <td>+854AcBQT2</td>\n",
              "    </tr>\n",
              "    <tr>\n",
              "      <th>2</th>\n",
              "      <td>sms</td>\n",
              "      <td>0</td>\n",
              "      <td>2012-05-07 23:04:06.0</td>\n",
              "      <td>0</td>\n",
              "      <td>+laSrk7g6q</td>\n",
              "    </tr>\n",
              "    <tr>\n",
              "      <th>3</th>\n",
              "      <td>Voice</td>\n",
              "      <td>37</td>\n",
              "      <td>2012-05-07 23:04:48.0</td>\n",
              "      <td>1</td>\n",
              "      <td>/xvRrCVKoQ</td>\n",
              "    </tr>\n",
              "    <tr>\n",
              "      <th>4</th>\n",
              "      <td>sms</td>\n",
              "      <td>25</td>\n",
              "      <td>2012-05-07 23:04:58.0</td>\n",
              "      <td>1</td>\n",
              "      <td>+bO+qkSonO</td>\n",
              "    </tr>\n",
              "    <tr>\n",
              "      <th>...</th>\n",
              "      <td>...</td>\n",
              "      <td>...</td>\n",
              "      <td>...</td>\n",
              "      <td>...</td>\n",
              "      <td>...</td>\n",
              "    </tr>\n",
              "    <tr>\n",
              "      <th>4995</th>\n",
              "      <td>sms</td>\n",
              "      <td>25</td>\n",
              "      <td>2012-05-08 00:01:53.0</td>\n",
              "      <td>0</td>\n",
              "      <td>eefd93f0b4</td>\n",
              "    </tr>\n",
              "    <tr>\n",
              "      <th>4996</th>\n",
              "      <td>sms</td>\n",
              "      <td>0</td>\n",
              "      <td>2012-05-08 00:01:53.0</td>\n",
              "      <td>8</td>\n",
              "      <td>b7d00e59e4</td>\n",
              "    </tr>\n",
              "    <tr>\n",
              "      <th>4997</th>\n",
              "      <td>sms</td>\n",
              "      <td>25</td>\n",
              "      <td>2012-05-08 00:01:53.0</td>\n",
              "      <td>0</td>\n",
              "      <td>211015b14d</td>\n",
              "    </tr>\n",
              "    <tr>\n",
              "      <th>4998</th>\n",
              "      <td>sms</td>\n",
              "      <td>0</td>\n",
              "      <td>2012-05-08 00:01:53.0</td>\n",
              "      <td>0</td>\n",
              "      <td>c7ea989264</td>\n",
              "    </tr>\n",
              "    <tr>\n",
              "      <th>4999</th>\n",
              "      <td>data</td>\n",
              "      <td>0</td>\n",
              "      <td>2012-05-08 00:01:53.0</td>\n",
              "      <td>_</td>\n",
              "      <td>.</td>\n",
              "    </tr>\n",
              "  </tbody>\n",
              "</table>\n",
              "<p>4923 rows × 5 columns</p>\n",
              "</div>"
            ],
            "text/plain": [
              "     PRODUCT  VALUE              DATE_TIME CELL_ON_SITE     SITE_ID\n",
              "0        sms      0  2012-05-07 23:02:06.0            2  +854AcBQT2\n",
              "1      Voice      0  2012-05-07 23:03:44.0            1  +854AcBQT2\n",
              "2        sms      0  2012-05-07 23:04:06.0            0  +laSrk7g6q\n",
              "3      Voice     37  2012-05-07 23:04:48.0            1  /xvRrCVKoQ\n",
              "4        sms     25  2012-05-07 23:04:58.0            1  +bO+qkSonO\n",
              "...      ...    ...                    ...          ...         ...\n",
              "4995     sms     25  2012-05-08 00:01:53.0            0  eefd93f0b4\n",
              "4996     sms      0  2012-05-08 00:01:53.0            8  b7d00e59e4\n",
              "4997     sms     25  2012-05-08 00:01:53.0            0  211015b14d\n",
              "4998     sms      0  2012-05-08 00:01:53.0            0  c7ea989264\n",
              "4999    data      0  2012-05-08 00:01:53.0            _           .\n",
              "\n",
              "[4923 rows x 5 columns]"
            ]
          },
          "metadata": {
            "tags": []
          },
          "execution_count": 35
        }
      ]
    },
    {
      "cell_type": "code",
      "metadata": {
        "colab": {
          "base_uri": "https://localhost:8080/"
        },
        "id": "MBNPRfz_Kx9C",
        "outputId": "222e3bb3-90d0-452f-9400-0f16872e884a"
      },
      "source": [
        "#cheking the columns in my tel1 dataset \n",
        "Tel3upd.head()\n",
        "\n",
        "#Columns such as DW_A_NUMBER,\tDW_B_NUMBER,\tCOUNTRY_A,\tCOUNTRY_B,\tCELL_ID,\tSITE_ID are not needed to find out which cells were most used in the cities\n",
        "Tel3upd.drop(columns= [\"DW_A_NUMBER_INT\",\t\"DW_B_NUMBER_INT\",\t\"COUNTRY_A\",\t\"COUNTRY_B\", \"CELLID\"], axis= 1, inplace= True)"
      ],
      "execution_count": 36,
      "outputs": [
        {
          "output_type": "stream",
          "text": [
            "/usr/local/lib/python3.7/dist-packages/pandas/core/frame.py:4174: SettingWithCopyWarning: \n",
            "A value is trying to be set on a copy of a slice from a DataFrame\n",
            "\n",
            "See the caveats in the documentation: https://pandas.pydata.org/pandas-docs/stable/user_guide/indexing.html#returning-a-view-versus-a-copy\n",
            "  errors=errors,\n"
          ],
          "name": "stderr"
        }
      ]
    },
    {
      "cell_type": "code",
      "metadata": {
        "colab": {
          "base_uri": "https://localhost:8080/",
          "height": 419
        },
        "id": "WeuPDpfgLAk0",
        "outputId": "622252e1-92d0-4619-cf6e-b6a88f3dc527"
      },
      "source": [
        "#Cheking to see whether the columns have been deleted\n",
        "Tel3upd\n",
        "#renaming the cell id column to match the other telecome datasets \n",
        "Tel3upda = Tel3upd.rename(columns={'SIET_ID': 'SITE_ID'})\n",
        "Tel3upda                  "
      ],
      "execution_count": 37,
      "outputs": [
        {
          "output_type": "execute_result",
          "data": {
            "text/html": [
              "<div>\n",
              "<style scoped>\n",
              "    .dataframe tbody tr th:only-of-type {\n",
              "        vertical-align: middle;\n",
              "    }\n",
              "\n",
              "    .dataframe tbody tr th {\n",
              "        vertical-align: top;\n",
              "    }\n",
              "\n",
              "    .dataframe thead th {\n",
              "        text-align: right;\n",
              "    }\n",
              "</style>\n",
              "<table border=\"1\" class=\"dataframe\">\n",
              "  <thead>\n",
              "    <tr style=\"text-align: right;\">\n",
              "      <th></th>\n",
              "      <th>PRODUCT</th>\n",
              "      <th>VALUE</th>\n",
              "      <th>DATE_TIME</th>\n",
              "      <th>CELL_ON_SITE</th>\n",
              "      <th>SITE_ID</th>\n",
              "    </tr>\n",
              "  </thead>\n",
              "  <tbody>\n",
              "    <tr>\n",
              "      <th>0</th>\n",
              "      <td>Voice</td>\n",
              "      <td>61</td>\n",
              "      <td>2012-05-08 23:01:28.0</td>\n",
              "      <td>2</td>\n",
              "      <td>+38u2u/rfx</td>\n",
              "    </tr>\n",
              "    <tr>\n",
              "      <th>1</th>\n",
              "      <td>sms</td>\n",
              "      <td>0</td>\n",
              "      <td>2012-05-08 23:01:31.0</td>\n",
              "      <td>1</td>\n",
              "      <td>+Fs4mTvdKx</td>\n",
              "    </tr>\n",
              "    <tr>\n",
              "      <th>2</th>\n",
              "      <td>Voice</td>\n",
              "      <td>10</td>\n",
              "      <td>2012-05-08 23:02:59.0</td>\n",
              "      <td>1</td>\n",
              "      <td>+ZaaZozy/+</td>\n",
              "    </tr>\n",
              "    <tr>\n",
              "      <th>3</th>\n",
              "      <td>sms</td>\n",
              "      <td>0</td>\n",
              "      <td>2012-05-08 23:03:04.0</td>\n",
              "      <td>0</td>\n",
              "      <td>+cNeJzsTp3</td>\n",
              "    </tr>\n",
              "    <tr>\n",
              "      <th>4</th>\n",
              "      <td>Voice</td>\n",
              "      <td>22</td>\n",
              "      <td>2012-05-08 23:03:16.0</td>\n",
              "      <td>4</td>\n",
              "      <td>/eeMklgyJA</td>\n",
              "    </tr>\n",
              "    <tr>\n",
              "      <th>...</th>\n",
              "      <td>...</td>\n",
              "      <td>...</td>\n",
              "      <td>...</td>\n",
              "      <td>...</td>\n",
              "      <td>...</td>\n",
              "    </tr>\n",
              "    <tr>\n",
              "      <th>4995</th>\n",
              "      <td>Voice</td>\n",
              "      <td>10</td>\n",
              "      <td>2012-05-09 00:01:43.0</td>\n",
              "      <td>0</td>\n",
              "      <td>8a96bae9c1</td>\n",
              "    </tr>\n",
              "    <tr>\n",
              "      <th>4996</th>\n",
              "      <td>Voice</td>\n",
              "      <td>0</td>\n",
              "      <td>2012-05-09 00:01:43.0</td>\n",
              "      <td>3</td>\n",
              "      <td>f7d63a29e5</td>\n",
              "    </tr>\n",
              "    <tr>\n",
              "      <th>4997</th>\n",
              "      <td>Voice</td>\n",
              "      <td>62</td>\n",
              "      <td>2012-05-09 00:01:43.0</td>\n",
              "      <td>1</td>\n",
              "      <td>b4ddb9e93c</td>\n",
              "    </tr>\n",
              "    <tr>\n",
              "      <th>4999</th>\n",
              "      <td>Voice</td>\n",
              "      <td>30</td>\n",
              "      <td>2012-05-09 00:01:43.0</td>\n",
              "      <td>2</td>\n",
              "      <td>b4130b54ab</td>\n",
              "    </tr>\n",
              "    <tr>\n",
              "      <th>5000</th>\n",
              "      <td>Voice</td>\n",
              "      <td>60</td>\n",
              "      <td>2012-05-09 00:01:43.0</td>\n",
              "      <td>2</td>\n",
              "      <td>6d70dae094</td>\n",
              "    </tr>\n",
              "  </tbody>\n",
              "</table>\n",
              "<p>4908 rows × 5 columns</p>\n",
              "</div>"
            ],
            "text/plain": [
              "     PRODUCT  VALUE              DATE_TIME CELL_ON_SITE     SITE_ID\n",
              "0      Voice     61  2012-05-08 23:01:28.0            2  +38u2u/rfx\n",
              "1        sms      0  2012-05-08 23:01:31.0            1  +Fs4mTvdKx\n",
              "2      Voice     10  2012-05-08 23:02:59.0            1  +ZaaZozy/+\n",
              "3        sms      0  2012-05-08 23:03:04.0            0  +cNeJzsTp3\n",
              "4      Voice     22  2012-05-08 23:03:16.0            4  /eeMklgyJA\n",
              "...      ...    ...                    ...          ...         ...\n",
              "4995   Voice     10  2012-05-09 00:01:43.0            0  8a96bae9c1\n",
              "4996   Voice      0  2012-05-09 00:01:43.0            3  f7d63a29e5\n",
              "4997   Voice     62  2012-05-09 00:01:43.0            1  b4ddb9e93c\n",
              "4999   Voice     30  2012-05-09 00:01:43.0            2  b4130b54ab\n",
              "5000   Voice     60  2012-05-09 00:01:43.0            2  6d70dae094\n",
              "\n",
              "[4908 rows x 5 columns]"
            ]
          },
          "metadata": {
            "tags": []
          },
          "execution_count": 37
        }
      ]
    },
    {
      "cell_type": "markdown",
      "metadata": {
        "id": "0E7nkkDyQr-0"
      },
      "source": [
        "# **MERGING DATASETS**"
      ]
    },
    {
      "cell_type": "code",
      "metadata": {
        "colab": {
          "base_uri": "https://localhost:8080/",
          "height": 745
        },
        "id": "Zq5rdOcRQ0Ax",
        "outputId": "c42d51a8-2a62-4fd0-d0b0-00e7bec7d46a"
      },
      "source": [
        "#Merging Datasests Together \n",
        "# Merging my geo_cells dataset to my tel1 dataset with the column SITE_ID as the common column \n",
        "merge1 = geo4.merge(Tel1upda, how=\"left\", on = 'SITE_ID')\n",
        "#Merging my merge to the Telcome 2 dataset with the same common column\n",
        "merge2 = merge1.merge(Tel2upd, how=\"left\", on = 'SITE_ID')\n",
        "#Merging my merge2 to the Telcome 3 dataset with the same common column\n",
        "MTN = merge2.merge(Tel3upda, how=\"left\", on=\"SITE_ID\")\n",
        "MTN"
      ],
      "execution_count": 38,
      "outputs": [
        {
          "output_type": "execute_result",
          "data": {
            "text/html": [
              "<div>\n",
              "<style scoped>\n",
              "    .dataframe tbody tr th:only-of-type {\n",
              "        vertical-align: middle;\n",
              "    }\n",
              "\n",
              "    .dataframe tbody tr th {\n",
              "        vertical-align: top;\n",
              "    }\n",
              "\n",
              "    .dataframe thead th {\n",
              "        text-align: right;\n",
              "    }\n",
              "</style>\n",
              "<table border=\"1\" class=\"dataframe\">\n",
              "  <thead>\n",
              "    <tr style=\"text-align: right;\">\n",
              "      <th></th>\n",
              "      <th>VILLES</th>\n",
              "      <th>STATUS</th>\n",
              "      <th>LOCALISATION</th>\n",
              "      <th>DECOUPZONE</th>\n",
              "      <th>ZONENAME</th>\n",
              "      <th>REGION</th>\n",
              "      <th>AREA</th>\n",
              "      <th>SITE_ID</th>\n",
              "      <th>PRODUCT_x</th>\n",
              "      <th>VALUE_x</th>\n",
              "      <th>DATETIME</th>\n",
              "      <th>CELL_ON_SITE_x</th>\n",
              "      <th>PRODUCT_y</th>\n",
              "      <th>VALUE_y</th>\n",
              "      <th>DATE_TIME_x</th>\n",
              "      <th>CELL_ON_SITE_y</th>\n",
              "      <th>PRODUCT</th>\n",
              "      <th>VALUE</th>\n",
              "      <th>DATE_TIME_y</th>\n",
              "      <th>CELL_ON_SITE</th>\n",
              "    </tr>\n",
              "  </thead>\n",
              "  <tbody>\n",
              "    <tr>\n",
              "      <th>0</th>\n",
              "      <td>ADJAME</td>\n",
              "      <td>In Service</td>\n",
              "      <td>ABIDJAN</td>\n",
              "      <td>\"Abidjan_EST</td>\n",
              "      <td>AGBANNEW</td>\n",
              "      <td>LAGUNE</td>\n",
              "      <td>.</td>\n",
              "      <td>0bb492ef17</td>\n",
              "      <td>Voice</td>\n",
              "      <td>34.0</td>\n",
              "      <td>2012-05-07 00:00:58.0</td>\n",
              "      <td>2</td>\n",
              "      <td>NaN</td>\n",
              "      <td>NaN</td>\n",
              "      <td>NaN</td>\n",
              "      <td>NaN</td>\n",
              "      <td>NaN</td>\n",
              "      <td>NaN</td>\n",
              "      <td>NaN</td>\n",
              "      <td>NaN</td>\n",
              "    </tr>\n",
              "    <tr>\n",
              "      <th>1</th>\n",
              "      <td>ADJAME</td>\n",
              "      <td>In Service</td>\n",
              "      <td>ABIDJAN</td>\n",
              "      <td>\"Abidjan_EST</td>\n",
              "      <td>AGBANNEW</td>\n",
              "      <td>LAGUNE</td>\n",
              "      <td>.</td>\n",
              "      <td>0bb492ef17</td>\n",
              "      <td>Voice</td>\n",
              "      <td>34.0</td>\n",
              "      <td>2012-05-07 00:00:58.0</td>\n",
              "      <td>2</td>\n",
              "      <td>NaN</td>\n",
              "      <td>NaN</td>\n",
              "      <td>NaN</td>\n",
              "      <td>NaN</td>\n",
              "      <td>NaN</td>\n",
              "      <td>NaN</td>\n",
              "      <td>NaN</td>\n",
              "      <td>NaN</td>\n",
              "    </tr>\n",
              "    <tr>\n",
              "      <th>2</th>\n",
              "      <td>ADJAME</td>\n",
              "      <td>In Service</td>\n",
              "      <td>ABIDJAN</td>\n",
              "      <td>\"Abidjan_EST</td>\n",
              "      <td>AGBANNEW</td>\n",
              "      <td>LAGUNE</td>\n",
              "      <td>.</td>\n",
              "      <td>0bb492ef17</td>\n",
              "      <td>Voice</td>\n",
              "      <td>34.0</td>\n",
              "      <td>2012-05-07 00:00:58.0</td>\n",
              "      <td>2</td>\n",
              "      <td>NaN</td>\n",
              "      <td>NaN</td>\n",
              "      <td>NaN</td>\n",
              "      <td>NaN</td>\n",
              "      <td>NaN</td>\n",
              "      <td>NaN</td>\n",
              "      <td>NaN</td>\n",
              "      <td>NaN</td>\n",
              "    </tr>\n",
              "    <tr>\n",
              "      <th>3</th>\n",
              "      <td>ASSINIE</td>\n",
              "      <td>In Service</td>\n",
              "      <td>INTERIEUR</td>\n",
              "      <td>Grand-EST</td>\n",
              "      <td>ASSINIE\"</td>\n",
              "      <td>SUD COMOE</td>\n",
              "      <td>.</td>\n",
              "      <td>8a1e6ce31f</td>\n",
              "      <td>NaN</td>\n",
              "      <td>NaN</td>\n",
              "      <td>NaN</td>\n",
              "      <td>NaN</td>\n",
              "      <td>NaN</td>\n",
              "      <td>NaN</td>\n",
              "      <td>NaN</td>\n",
              "      <td>NaN</td>\n",
              "      <td>NaN</td>\n",
              "      <td>NaN</td>\n",
              "      <td>NaN</td>\n",
              "      <td>NaN</td>\n",
              "    </tr>\n",
              "    <tr>\n",
              "      <th>4</th>\n",
              "      <td>ASSINIE</td>\n",
              "      <td>In Service</td>\n",
              "      <td>INTERIEUR</td>\n",
              "      <td>Grand-EST</td>\n",
              "      <td>ASSINIE\"</td>\n",
              "      <td>SUD COMOE</td>\n",
              "      <td>.</td>\n",
              "      <td>8a1e6ce31f</td>\n",
              "      <td>NaN</td>\n",
              "      <td>NaN</td>\n",
              "      <td>NaN</td>\n",
              "      <td>NaN</td>\n",
              "      <td>NaN</td>\n",
              "      <td>NaN</td>\n",
              "      <td>NaN</td>\n",
              "      <td>NaN</td>\n",
              "      <td>NaN</td>\n",
              "      <td>NaN</td>\n",
              "      <td>NaN</td>\n",
              "      <td>NaN</td>\n",
              "    </tr>\n",
              "    <tr>\n",
              "      <th>...</th>\n",
              "      <td>...</td>\n",
              "      <td>...</td>\n",
              "      <td>...</td>\n",
              "      <td>...</td>\n",
              "      <td>...</td>\n",
              "      <td>...</td>\n",
              "      <td>...</td>\n",
              "      <td>...</td>\n",
              "      <td>...</td>\n",
              "      <td>...</td>\n",
              "      <td>...</td>\n",
              "      <td>...</td>\n",
              "      <td>...</td>\n",
              "      <td>...</td>\n",
              "      <td>...</td>\n",
              "      <td>...</td>\n",
              "      <td>...</td>\n",
              "      <td>...</td>\n",
              "      <td>...</td>\n",
              "      <td>...</td>\n",
              "    </tr>\n",
              "    <tr>\n",
              "      <th>1790363</th>\n",
              "      <td>ZUENOULA</td>\n",
              "      <td>In Service</td>\n",
              "      <td>INTERIEUR</td>\n",
              "      <td>Grand-NORD</td>\n",
              "      <td>ZONE A - Grand-NORD</td>\n",
              "      <td>MARAHOUE</td>\n",
              "      <td>CENTRE NORTH</td>\n",
              "      <td>61bee9c70c</td>\n",
              "      <td>Voice</td>\n",
              "      <td>0.0</td>\n",
              "      <td>2012-05-07 00:01:37.0</td>\n",
              "      <td>1</td>\n",
              "      <td>Voice</td>\n",
              "      <td>21.0</td>\n",
              "      <td>2012-05-08 00:01:13.0</td>\n",
              "      <td>1</td>\n",
              "      <td>sms</td>\n",
              "      <td>0.0</td>\n",
              "      <td>2012-05-09 00:01:37.0</td>\n",
              "      <td>1</td>\n",
              "    </tr>\n",
              "    <tr>\n",
              "      <th>1790364</th>\n",
              "      <td>ZUENOULA</td>\n",
              "      <td>In Service</td>\n",
              "      <td>INTERIEUR</td>\n",
              "      <td>Grand-NORD</td>\n",
              "      <td>ZONE A - Grand-NORD</td>\n",
              "      <td>MARAHOUE</td>\n",
              "      <td>CENTRE NORTH</td>\n",
              "      <td>61bee9c70c</td>\n",
              "      <td>Voice</td>\n",
              "      <td>0.0</td>\n",
              "      <td>2012-05-07 00:01:37.0</td>\n",
              "      <td>1</td>\n",
              "      <td>Voice</td>\n",
              "      <td>90.0</td>\n",
              "      <td>2012-05-08 00:01:21.0</td>\n",
              "      <td>1</td>\n",
              "      <td>Voice</td>\n",
              "      <td>0.0</td>\n",
              "      <td>2012-05-09 00:00:12.0</td>\n",
              "      <td>1</td>\n",
              "    </tr>\n",
              "    <tr>\n",
              "      <th>1790365</th>\n",
              "      <td>ZUENOULA</td>\n",
              "      <td>In Service</td>\n",
              "      <td>INTERIEUR</td>\n",
              "      <td>Grand-NORD</td>\n",
              "      <td>ZONE A - Grand-NORD</td>\n",
              "      <td>MARAHOUE</td>\n",
              "      <td>CENTRE NORTH</td>\n",
              "      <td>61bee9c70c</td>\n",
              "      <td>Voice</td>\n",
              "      <td>0.0</td>\n",
              "      <td>2012-05-07 00:01:37.0</td>\n",
              "      <td>1</td>\n",
              "      <td>Voice</td>\n",
              "      <td>90.0</td>\n",
              "      <td>2012-05-08 00:01:21.0</td>\n",
              "      <td>1</td>\n",
              "      <td>sms</td>\n",
              "      <td>0.0</td>\n",
              "      <td>2012-05-09 00:00:24.0</td>\n",
              "      <td>1</td>\n",
              "    </tr>\n",
              "    <tr>\n",
              "      <th>1790366</th>\n",
              "      <td>ZUENOULA</td>\n",
              "      <td>In Service</td>\n",
              "      <td>INTERIEUR</td>\n",
              "      <td>Grand-NORD</td>\n",
              "      <td>ZONE A - Grand-NORD</td>\n",
              "      <td>MARAHOUE</td>\n",
              "      <td>CENTRE NORTH</td>\n",
              "      <td>61bee9c70c</td>\n",
              "      <td>Voice</td>\n",
              "      <td>0.0</td>\n",
              "      <td>2012-05-07 00:01:37.0</td>\n",
              "      <td>1</td>\n",
              "      <td>Voice</td>\n",
              "      <td>90.0</td>\n",
              "      <td>2012-05-08 00:01:21.0</td>\n",
              "      <td>1</td>\n",
              "      <td>Voice</td>\n",
              "      <td>34.0</td>\n",
              "      <td>2012-05-09 00:01:00.0</td>\n",
              "      <td>1</td>\n",
              "    </tr>\n",
              "    <tr>\n",
              "      <th>1790367</th>\n",
              "      <td>ZUENOULA</td>\n",
              "      <td>In Service</td>\n",
              "      <td>INTERIEUR</td>\n",
              "      <td>Grand-NORD</td>\n",
              "      <td>ZONE A - Grand-NORD</td>\n",
              "      <td>MARAHOUE</td>\n",
              "      <td>CENTRE NORTH</td>\n",
              "      <td>61bee9c70c</td>\n",
              "      <td>Voice</td>\n",
              "      <td>0.0</td>\n",
              "      <td>2012-05-07 00:01:37.0</td>\n",
              "      <td>1</td>\n",
              "      <td>Voice</td>\n",
              "      <td>90.0</td>\n",
              "      <td>2012-05-08 00:01:21.0</td>\n",
              "      <td>1</td>\n",
              "      <td>sms</td>\n",
              "      <td>0.0</td>\n",
              "      <td>2012-05-09 00:01:37.0</td>\n",
              "      <td>1</td>\n",
              "    </tr>\n",
              "  </tbody>\n",
              "</table>\n",
              "<p>1790368 rows × 20 columns</p>\n",
              "</div>"
            ],
            "text/plain": [
              "           VILLES      STATUS  ...            DATE_TIME_y CELL_ON_SITE\n",
              "0          ADJAME  In Service  ...                    NaN          NaN\n",
              "1          ADJAME  In Service  ...                    NaN          NaN\n",
              "2          ADJAME  In Service  ...                    NaN          NaN\n",
              "3         ASSINIE  In Service  ...                    NaN          NaN\n",
              "4         ASSINIE  In Service  ...                    NaN          NaN\n",
              "...           ...         ...  ...                    ...          ...\n",
              "1790363  ZUENOULA  In Service  ...  2012-05-09 00:01:37.0            1\n",
              "1790364  ZUENOULA  In Service  ...  2012-05-09 00:00:12.0            1\n",
              "1790365  ZUENOULA  In Service  ...  2012-05-09 00:00:24.0            1\n",
              "1790366  ZUENOULA  In Service  ...  2012-05-09 00:01:00.0            1\n",
              "1790367  ZUENOULA  In Service  ...  2012-05-09 00:01:37.0            1\n",
              "\n",
              "[1790368 rows x 20 columns]"
            ]
          },
          "metadata": {
            "tags": []
          },
          "execution_count": 38
        }
      ]
    },
    {
      "cell_type": "markdown",
      "metadata": {
        "id": "WQMYEVHzvM6u"
      },
      "source": [
        "a) **Taking care of unnecessary columns, missing data and duplicate values**"
      ]
    },
    {
      "cell_type": "code",
      "metadata": {
        "colab": {
          "base_uri": "https://localhost:8080/",
          "height": 745
        },
        "id": "4EwyBUNgh3BI",
        "outputId": "852b3d33-54a6-4fe6-821a-389d1c7a368d"
      },
      "source": [
        "#Dropping columns that are not needed\n",
        "MTN.drop(columns=[\"SITE_ID\", \"CELL_ON_SITE_y\", \"PRODUCT_x\", \"VALUE_x\", 'CELL_ON_SITE_x',\t'PRODUCT_y',\t'VALUE_y',\t'DATE_TIME_x', 'DATE_TIME_y'], axis=0, inplace=True)\n",
        "MTN"
      ],
      "execution_count": 39,
      "outputs": [
        {
          "output_type": "execute_result",
          "data": {
            "text/html": [
              "<div>\n",
              "<style scoped>\n",
              "    .dataframe tbody tr th:only-of-type {\n",
              "        vertical-align: middle;\n",
              "    }\n",
              "\n",
              "    .dataframe tbody tr th {\n",
              "        vertical-align: top;\n",
              "    }\n",
              "\n",
              "    .dataframe thead th {\n",
              "        text-align: right;\n",
              "    }\n",
              "</style>\n",
              "<table border=\"1\" class=\"dataframe\">\n",
              "  <thead>\n",
              "    <tr style=\"text-align: right;\">\n",
              "      <th></th>\n",
              "      <th>VILLES</th>\n",
              "      <th>STATUS</th>\n",
              "      <th>LOCALISATION</th>\n",
              "      <th>DECOUPZONE</th>\n",
              "      <th>ZONENAME</th>\n",
              "      <th>REGION</th>\n",
              "      <th>AREA</th>\n",
              "      <th>DATETIME</th>\n",
              "      <th>PRODUCT</th>\n",
              "      <th>VALUE</th>\n",
              "      <th>CELL_ON_SITE</th>\n",
              "    </tr>\n",
              "  </thead>\n",
              "  <tbody>\n",
              "    <tr>\n",
              "      <th>0</th>\n",
              "      <td>ADJAME</td>\n",
              "      <td>In Service</td>\n",
              "      <td>ABIDJAN</td>\n",
              "      <td>\"Abidjan_EST</td>\n",
              "      <td>AGBANNEW</td>\n",
              "      <td>LAGUNE</td>\n",
              "      <td>.</td>\n",
              "      <td>2012-05-07 00:00:58.0</td>\n",
              "      <td>NaN</td>\n",
              "      <td>NaN</td>\n",
              "      <td>NaN</td>\n",
              "    </tr>\n",
              "    <tr>\n",
              "      <th>1</th>\n",
              "      <td>ADJAME</td>\n",
              "      <td>In Service</td>\n",
              "      <td>ABIDJAN</td>\n",
              "      <td>\"Abidjan_EST</td>\n",
              "      <td>AGBANNEW</td>\n",
              "      <td>LAGUNE</td>\n",
              "      <td>.</td>\n",
              "      <td>2012-05-07 00:00:58.0</td>\n",
              "      <td>NaN</td>\n",
              "      <td>NaN</td>\n",
              "      <td>NaN</td>\n",
              "    </tr>\n",
              "    <tr>\n",
              "      <th>2</th>\n",
              "      <td>ADJAME</td>\n",
              "      <td>In Service</td>\n",
              "      <td>ABIDJAN</td>\n",
              "      <td>\"Abidjan_EST</td>\n",
              "      <td>AGBANNEW</td>\n",
              "      <td>LAGUNE</td>\n",
              "      <td>.</td>\n",
              "      <td>2012-05-07 00:00:58.0</td>\n",
              "      <td>NaN</td>\n",
              "      <td>NaN</td>\n",
              "      <td>NaN</td>\n",
              "    </tr>\n",
              "    <tr>\n",
              "      <th>3</th>\n",
              "      <td>ASSINIE</td>\n",
              "      <td>In Service</td>\n",
              "      <td>INTERIEUR</td>\n",
              "      <td>Grand-EST</td>\n",
              "      <td>ASSINIE\"</td>\n",
              "      <td>SUD COMOE</td>\n",
              "      <td>.</td>\n",
              "      <td>NaN</td>\n",
              "      <td>NaN</td>\n",
              "      <td>NaN</td>\n",
              "      <td>NaN</td>\n",
              "    </tr>\n",
              "    <tr>\n",
              "      <th>4</th>\n",
              "      <td>ASSINIE</td>\n",
              "      <td>In Service</td>\n",
              "      <td>INTERIEUR</td>\n",
              "      <td>Grand-EST</td>\n",
              "      <td>ASSINIE\"</td>\n",
              "      <td>SUD COMOE</td>\n",
              "      <td>.</td>\n",
              "      <td>NaN</td>\n",
              "      <td>NaN</td>\n",
              "      <td>NaN</td>\n",
              "      <td>NaN</td>\n",
              "    </tr>\n",
              "    <tr>\n",
              "      <th>...</th>\n",
              "      <td>...</td>\n",
              "      <td>...</td>\n",
              "      <td>...</td>\n",
              "      <td>...</td>\n",
              "      <td>...</td>\n",
              "      <td>...</td>\n",
              "      <td>...</td>\n",
              "      <td>...</td>\n",
              "      <td>...</td>\n",
              "      <td>...</td>\n",
              "      <td>...</td>\n",
              "    </tr>\n",
              "    <tr>\n",
              "      <th>1790363</th>\n",
              "      <td>ZUENOULA</td>\n",
              "      <td>In Service</td>\n",
              "      <td>INTERIEUR</td>\n",
              "      <td>Grand-NORD</td>\n",
              "      <td>ZONE A - Grand-NORD</td>\n",
              "      <td>MARAHOUE</td>\n",
              "      <td>CENTRE NORTH</td>\n",
              "      <td>2012-05-07 00:01:37.0</td>\n",
              "      <td>sms</td>\n",
              "      <td>0.0</td>\n",
              "      <td>1</td>\n",
              "    </tr>\n",
              "    <tr>\n",
              "      <th>1790364</th>\n",
              "      <td>ZUENOULA</td>\n",
              "      <td>In Service</td>\n",
              "      <td>INTERIEUR</td>\n",
              "      <td>Grand-NORD</td>\n",
              "      <td>ZONE A - Grand-NORD</td>\n",
              "      <td>MARAHOUE</td>\n",
              "      <td>CENTRE NORTH</td>\n",
              "      <td>2012-05-07 00:01:37.0</td>\n",
              "      <td>Voice</td>\n",
              "      <td>0.0</td>\n",
              "      <td>1</td>\n",
              "    </tr>\n",
              "    <tr>\n",
              "      <th>1790365</th>\n",
              "      <td>ZUENOULA</td>\n",
              "      <td>In Service</td>\n",
              "      <td>INTERIEUR</td>\n",
              "      <td>Grand-NORD</td>\n",
              "      <td>ZONE A - Grand-NORD</td>\n",
              "      <td>MARAHOUE</td>\n",
              "      <td>CENTRE NORTH</td>\n",
              "      <td>2012-05-07 00:01:37.0</td>\n",
              "      <td>sms</td>\n",
              "      <td>0.0</td>\n",
              "      <td>1</td>\n",
              "    </tr>\n",
              "    <tr>\n",
              "      <th>1790366</th>\n",
              "      <td>ZUENOULA</td>\n",
              "      <td>In Service</td>\n",
              "      <td>INTERIEUR</td>\n",
              "      <td>Grand-NORD</td>\n",
              "      <td>ZONE A - Grand-NORD</td>\n",
              "      <td>MARAHOUE</td>\n",
              "      <td>CENTRE NORTH</td>\n",
              "      <td>2012-05-07 00:01:37.0</td>\n",
              "      <td>Voice</td>\n",
              "      <td>34.0</td>\n",
              "      <td>1</td>\n",
              "    </tr>\n",
              "    <tr>\n",
              "      <th>1790367</th>\n",
              "      <td>ZUENOULA</td>\n",
              "      <td>In Service</td>\n",
              "      <td>INTERIEUR</td>\n",
              "      <td>Grand-NORD</td>\n",
              "      <td>ZONE A - Grand-NORD</td>\n",
              "      <td>MARAHOUE</td>\n",
              "      <td>CENTRE NORTH</td>\n",
              "      <td>2012-05-07 00:01:37.0</td>\n",
              "      <td>sms</td>\n",
              "      <td>0.0</td>\n",
              "      <td>1</td>\n",
              "    </tr>\n",
              "  </tbody>\n",
              "</table>\n",
              "<p>1790368 rows × 11 columns</p>\n",
              "</div>"
            ],
            "text/plain": [
              "           VILLES      STATUS LOCALISATION  ... PRODUCT VALUE CELL_ON_SITE\n",
              "0          ADJAME  In Service      ABIDJAN  ...     NaN   NaN          NaN\n",
              "1          ADJAME  In Service      ABIDJAN  ...     NaN   NaN          NaN\n",
              "2          ADJAME  In Service      ABIDJAN  ...     NaN   NaN          NaN\n",
              "3         ASSINIE  In Service    INTERIEUR  ...     NaN   NaN          NaN\n",
              "4         ASSINIE  In Service    INTERIEUR  ...     NaN   NaN          NaN\n",
              "...           ...         ...          ...  ...     ...   ...          ...\n",
              "1790363  ZUENOULA  In Service    INTERIEUR  ...     sms   0.0            1\n",
              "1790364  ZUENOULA  In Service    INTERIEUR  ...   Voice   0.0            1\n",
              "1790365  ZUENOULA  In Service    INTERIEUR  ...     sms   0.0            1\n",
              "1790366  ZUENOULA  In Service    INTERIEUR  ...   Voice  34.0            1\n",
              "1790367  ZUENOULA  In Service    INTERIEUR  ...     sms   0.0            1\n",
              "\n",
              "[1790368 rows x 11 columns]"
            ]
          },
          "metadata": {
            "tags": []
          },
          "execution_count": 39
        }
      ]
    },
    {
      "cell_type": "code",
      "metadata": {
        "id": "BZoOaJlzrQp3"
      },
      "source": [
        "#Cheking the total of rows with missing data\n",
        "MTN.isnull().sum()\n",
        "#dropping rows that contain missing data\n",
        "mtnf= MTN.dropna()"
      ],
      "execution_count": 40,
      "outputs": []
    },
    {
      "cell_type": "code",
      "metadata": {
        "colab": {
          "base_uri": "https://localhost:8080/",
          "height": 289
        },
        "id": "H2XzBheWuVDK",
        "outputId": "ca6b43d5-40ad-4215-cfdc-038d6cf49eb6"
      },
      "source": [
        "# Taking care of duplicate values in the dataset\n",
        "mtnf.duplicated().sum()\n",
        "MTNfinal = mtnf.drop_duplicates()\n",
        "MTNfinal.head()"
      ],
      "execution_count": 41,
      "outputs": [
        {
          "output_type": "execute_result",
          "data": {
            "text/html": [
              "<div>\n",
              "<style scoped>\n",
              "    .dataframe tbody tr th:only-of-type {\n",
              "        vertical-align: middle;\n",
              "    }\n",
              "\n",
              "    .dataframe tbody tr th {\n",
              "        vertical-align: top;\n",
              "    }\n",
              "\n",
              "    .dataframe thead th {\n",
              "        text-align: right;\n",
              "    }\n",
              "</style>\n",
              "<table border=\"1\" class=\"dataframe\">\n",
              "  <thead>\n",
              "    <tr style=\"text-align: right;\">\n",
              "      <th></th>\n",
              "      <th>VILLES</th>\n",
              "      <th>STATUS</th>\n",
              "      <th>LOCALISATION</th>\n",
              "      <th>DECOUPZONE</th>\n",
              "      <th>ZONENAME</th>\n",
              "      <th>REGION</th>\n",
              "      <th>AREA</th>\n",
              "      <th>DATETIME</th>\n",
              "      <th>PRODUCT</th>\n",
              "      <th>VALUE</th>\n",
              "      <th>CELL_ON_SITE</th>\n",
              "    </tr>\n",
              "  </thead>\n",
              "  <tbody>\n",
              "    <tr>\n",
              "      <th>7</th>\n",
              "      <td>ABOBO</td>\n",
              "      <td>In Service</td>\n",
              "      <td>ABIDJAN</td>\n",
              "      <td>\"Abidjan_NORD</td>\n",
              "      <td>NPONON</td>\n",
              "      <td>LAGUNE</td>\n",
              "      <td>.</td>\n",
              "      <td>2012-05-07 00:00:18.0</td>\n",
              "      <td>Voice</td>\n",
              "      <td>8.0</td>\n",
              "      <td>0</td>\n",
              "    </tr>\n",
              "    <tr>\n",
              "      <th>8</th>\n",
              "      <td>ABOBO</td>\n",
              "      <td>In Service</td>\n",
              "      <td>ABIDJAN</td>\n",
              "      <td>\"Abidjan_NORD</td>\n",
              "      <td>NPONON</td>\n",
              "      <td>LAGUNE</td>\n",
              "      <td>.</td>\n",
              "      <td>2012-05-07 00:00:18.0</td>\n",
              "      <td>sms</td>\n",
              "      <td>50.0</td>\n",
              "      <td>4</td>\n",
              "    </tr>\n",
              "    <tr>\n",
              "      <th>11</th>\n",
              "      <td>ABOBO</td>\n",
              "      <td>In Service</td>\n",
              "      <td>ABIDJAN</td>\n",
              "      <td>\"Abidjan_NORD</td>\n",
              "      <td>NPONON</td>\n",
              "      <td>LAGUNE</td>\n",
              "      <td>.</td>\n",
              "      <td>2012-05-07 00:00:18.0</td>\n",
              "      <td>sms</td>\n",
              "      <td>0.0</td>\n",
              "      <td>5</td>\n",
              "    </tr>\n",
              "    <tr>\n",
              "      <th>12</th>\n",
              "      <td>ABOBO</td>\n",
              "      <td>In Service</td>\n",
              "      <td>ABIDJAN</td>\n",
              "      <td>\"Abidjan_NORD</td>\n",
              "      <td>NPONON</td>\n",
              "      <td>LAGUNE</td>\n",
              "      <td>.</td>\n",
              "      <td>2012-05-07 00:00:18.0</td>\n",
              "      <td>sms</td>\n",
              "      <td>25.0</td>\n",
              "      <td>0</td>\n",
              "    </tr>\n",
              "    <tr>\n",
              "      <th>13</th>\n",
              "      <td>ABOBO</td>\n",
              "      <td>In Service</td>\n",
              "      <td>ABIDJAN</td>\n",
              "      <td>\"Abidjan_NORD</td>\n",
              "      <td>NPONON</td>\n",
              "      <td>LAGUNE</td>\n",
              "      <td>.</td>\n",
              "      <td>2012-05-07 00:00:30.0</td>\n",
              "      <td>Voice</td>\n",
              "      <td>8.0</td>\n",
              "      <td>0</td>\n",
              "    </tr>\n",
              "  </tbody>\n",
              "</table>\n",
              "</div>"
            ],
            "text/plain": [
              "   VILLES      STATUS LOCALISATION  ... PRODUCT VALUE CELL_ON_SITE\n",
              "7   ABOBO  In Service      ABIDJAN  ...   Voice   8.0            0\n",
              "8   ABOBO  In Service      ABIDJAN  ...     sms  50.0            4\n",
              "11  ABOBO  In Service      ABIDJAN  ...     sms   0.0            5\n",
              "12  ABOBO  In Service      ABIDJAN  ...     sms  25.0            0\n",
              "13  ABOBO  In Service      ABIDJAN  ...   Voice   8.0            0\n",
              "\n",
              "[5 rows x 11 columns]"
            ]
          },
          "metadata": {
            "tags": []
          },
          "execution_count": 41
        }
      ]
    },
    {
      "cell_type": "code",
      "metadata": {
        "colab": {
          "base_uri": "https://localhost:8080/"
        },
        "id": "tn9uxxwwvtBl",
        "outputId": "ee6f9540-24be-4f5a-dab7-410842e2bc1b"
      },
      "source": [
        "#Looking at the information of my final dataset \n",
        "MTNfinal.info()"
      ],
      "execution_count": 42,
      "outputs": [
        {
          "output_type": "stream",
          "text": [
            "<class 'pandas.core.frame.DataFrame'>\n",
            "Int64Index: 14335 entries, 7 to 1790190\n",
            "Data columns (total 11 columns):\n",
            " #   Column        Non-Null Count  Dtype  \n",
            "---  ------        --------------  -----  \n",
            " 0   VILLES        14335 non-null  object \n",
            " 1   STATUS        14335 non-null  object \n",
            " 2   LOCALISATION  14335 non-null  object \n",
            " 3   DECOUPZONE    14335 non-null  object \n",
            " 4   ZONENAME      14335 non-null  object \n",
            " 5   REGION        14335 non-null  object \n",
            " 6   AREA          14335 non-null  object \n",
            " 7   DATETIME      14335 non-null  object \n",
            " 8   PRODUCT       14335 non-null  object \n",
            " 9   VALUE         14335 non-null  float64\n",
            " 10  CELL_ON_SITE  14335 non-null  object \n",
            "dtypes: float64(1), object(10)\n",
            "memory usage: 1.3+ MB\n"
          ],
          "name": "stdout"
        }
      ]
    },
    {
      "cell_type": "markdown",
      "metadata": {
        "id": "VnfFqY3HoB8N"
      },
      "source": [
        "# EXPORTING TO CSV\n",
        "### Exporting to csv to do the visualisation on tableau\n"
      ]
    },
    {
      "cell_type": "code",
      "metadata": {
        "id": "Xn57ndvboBBh"
      },
      "source": [
        "MTNfinal.to_csv(\"MTNfinal.csv\")"
      ],
      "execution_count": 52,
      "outputs": []
    },
    {
      "cell_type": "markdown",
      "metadata": {
        "id": "xikT4faUzSKR"
      },
      "source": [
        "# **DERIVING NEW ATTRIBUTES/DATA ANALYSIS**\n",
        "\n",
        "\n",
        "\n",
        "1. Which Cities had the highest billing?\n",
        "2. The city with the most cells?\n",
        "2. Which cities were the most used during business and home hours?\n",
        "3. Most used city for the three days?\n",
        "4. Which product is the most used in the cities\n",
        "5. Which city had the most value in product\n",
        "6. Which city had the most cells on site?\n",
        "\n",
        "\n",
        "\n",
        "\n"
      ]
    },
    {
      "cell_type": "code",
      "metadata": {
        "colab": {
          "base_uri": "https://localhost:8080/",
          "height": 450
        },
        "id": "YDOlo29Y8rE-",
        "outputId": "4d0a5782-19ff-4616-bdad-bdd9e2b9bcdc"
      },
      "source": [
        "#Descriptive statistics between our city and Values column \n",
        "MTNfinal['VALUE'].groupby(MTNfinal['VILLES']).describe()"
      ],
      "execution_count": 44,
      "outputs": [
        {
          "output_type": "execute_result",
          "data": {
            "text/html": [
              "<div>\n",
              "<style scoped>\n",
              "    .dataframe tbody tr th:only-of-type {\n",
              "        vertical-align: middle;\n",
              "    }\n",
              "\n",
              "    .dataframe tbody tr th {\n",
              "        vertical-align: top;\n",
              "    }\n",
              "\n",
              "    .dataframe thead th {\n",
              "        text-align: right;\n",
              "    }\n",
              "</style>\n",
              "<table border=\"1\" class=\"dataframe\">\n",
              "  <thead>\n",
              "    <tr style=\"text-align: right;\">\n",
              "      <th></th>\n",
              "      <th>count</th>\n",
              "      <th>mean</th>\n",
              "      <th>std</th>\n",
              "      <th>min</th>\n",
              "      <th>25%</th>\n",
              "      <th>50%</th>\n",
              "      <th>75%</th>\n",
              "      <th>max</th>\n",
              "    </tr>\n",
              "    <tr>\n",
              "      <th>VILLES</th>\n",
              "      <th></th>\n",
              "      <th></th>\n",
              "      <th></th>\n",
              "      <th></th>\n",
              "      <th></th>\n",
              "      <th></th>\n",
              "      <th></th>\n",
              "      <th></th>\n",
              "    </tr>\n",
              "  </thead>\n",
              "  <tbody>\n",
              "    <tr>\n",
              "      <th>ABENGOUROU</th>\n",
              "      <td>49.0</td>\n",
              "      <td>63.632653</td>\n",
              "      <td>116.573956</td>\n",
              "      <td>0.0</td>\n",
              "      <td>20.00</td>\n",
              "      <td>25.0</td>\n",
              "      <td>25.00</td>\n",
              "      <td>480.0</td>\n",
              "    </tr>\n",
              "    <tr>\n",
              "      <th>ABOBO</th>\n",
              "      <td>1670.0</td>\n",
              "      <td>32.008982</td>\n",
              "      <td>65.773541</td>\n",
              "      <td>0.0</td>\n",
              "      <td>0.00</td>\n",
              "      <td>24.0</td>\n",
              "      <td>33.00</td>\n",
              "      <td>540.0</td>\n",
              "    </tr>\n",
              "    <tr>\n",
              "      <th>ABOISSO</th>\n",
              "      <td>20.0</td>\n",
              "      <td>8.200000</td>\n",
              "      <td>6.271070</td>\n",
              "      <td>0.0</td>\n",
              "      <td>7.00</td>\n",
              "      <td>7.0</td>\n",
              "      <td>8.00</td>\n",
              "      <td>19.0</td>\n",
              "    </tr>\n",
              "    <tr>\n",
              "      <th>ABOISSO COMOE</th>\n",
              "      <td>2.0</td>\n",
              "      <td>0.000000</td>\n",
              "      <td>0.000000</td>\n",
              "      <td>0.0</td>\n",
              "      <td>0.00</td>\n",
              "      <td>0.0</td>\n",
              "      <td>0.00</td>\n",
              "      <td>0.0</td>\n",
              "    </tr>\n",
              "    <tr>\n",
              "      <th>ADIAKE</th>\n",
              "      <td>2.0</td>\n",
              "      <td>56.500000</td>\n",
              "      <td>44.547727</td>\n",
              "      <td>25.0</td>\n",
              "      <td>40.75</td>\n",
              "      <td>56.5</td>\n",
              "      <td>72.25</td>\n",
              "      <td>88.0</td>\n",
              "    </tr>\n",
              "    <tr>\n",
              "      <th>...</th>\n",
              "      <td>...</td>\n",
              "      <td>...</td>\n",
              "      <td>...</td>\n",
              "      <td>...</td>\n",
              "      <td>...</td>\n",
              "      <td>...</td>\n",
              "      <td>...</td>\n",
              "      <td>...</td>\n",
              "    </tr>\n",
              "    <tr>\n",
              "      <th>ZADDI</th>\n",
              "      <td>3.0</td>\n",
              "      <td>0.000000</td>\n",
              "      <td>0.000000</td>\n",
              "      <td>0.0</td>\n",
              "      <td>0.00</td>\n",
              "      <td>0.0</td>\n",
              "      <td>0.00</td>\n",
              "      <td>0.0</td>\n",
              "    </tr>\n",
              "    <tr>\n",
              "      <th>ZAGNE</th>\n",
              "      <td>1.0</td>\n",
              "      <td>120.000000</td>\n",
              "      <td>NaN</td>\n",
              "      <td>120.0</td>\n",
              "      <td>120.00</td>\n",
              "      <td>120.0</td>\n",
              "      <td>120.00</td>\n",
              "      <td>120.0</td>\n",
              "    </tr>\n",
              "    <tr>\n",
              "      <th>ZAMBAKRO</th>\n",
              "      <td>2.0</td>\n",
              "      <td>520.500000</td>\n",
              "      <td>709.228102</td>\n",
              "      <td>19.0</td>\n",
              "      <td>269.75</td>\n",
              "      <td>520.5</td>\n",
              "      <td>771.25</td>\n",
              "      <td>1022.0</td>\n",
              "    </tr>\n",
              "    <tr>\n",
              "      <th>ZIKISSO</th>\n",
              "      <td>6.0</td>\n",
              "      <td>55.000000</td>\n",
              "      <td>60.249481</td>\n",
              "      <td>0.0</td>\n",
              "      <td>0.00</td>\n",
              "      <td>55.0</td>\n",
              "      <td>110.00</td>\n",
              "      <td>110.0</td>\n",
              "    </tr>\n",
              "    <tr>\n",
              "      <th>ZUENOULA</th>\n",
              "      <td>45.0</td>\n",
              "      <td>5.288889</td>\n",
              "      <td>12.461983</td>\n",
              "      <td>0.0</td>\n",
              "      <td>0.00</td>\n",
              "      <td>0.0</td>\n",
              "      <td>0.00</td>\n",
              "      <td>34.0</td>\n",
              "    </tr>\n",
              "  </tbody>\n",
              "</table>\n",
              "<p>158 rows × 8 columns</p>\n",
              "</div>"
            ],
            "text/plain": [
              "                count        mean         std  ...    50%     75%     max\n",
              "VILLES                                         ...                       \n",
              "ABENGOUROU       49.0   63.632653  116.573956  ...   25.0   25.00   480.0\n",
              "ABOBO          1670.0   32.008982   65.773541  ...   24.0   33.00   540.0\n",
              "ABOISSO          20.0    8.200000    6.271070  ...    7.0    8.00    19.0\n",
              "ABOISSO COMOE     2.0    0.000000    0.000000  ...    0.0    0.00     0.0\n",
              "ADIAKE            2.0   56.500000   44.547727  ...   56.5   72.25    88.0\n",
              "...               ...         ...         ...  ...    ...     ...     ...\n",
              "ZADDI             3.0    0.000000    0.000000  ...    0.0    0.00     0.0\n",
              "ZAGNE             1.0  120.000000         NaN  ...  120.0  120.00   120.0\n",
              "ZAMBAKRO          2.0  520.500000  709.228102  ...  520.5  771.25  1022.0\n",
              "ZIKISSO           6.0   55.000000   60.249481  ...   55.0  110.00   110.0\n",
              "ZUENOULA         45.0    5.288889   12.461983  ...    0.0    0.00    34.0\n",
              "\n",
              "[158 rows x 8 columns]"
            ]
          },
          "metadata": {
            "tags": []
          },
          "execution_count": 44
        }
      ]
    },
    {
      "cell_type": "code",
      "metadata": {
        "colab": {
          "base_uri": "https://localhost:8080/",
          "height": 450
        },
        "id": "PEw7lqYwsJhN",
        "outputId": "932e6613-00a5-4880-cef5-1c9772563fa4"
      },
      "source": [
        "#Descriptive statistics between our city and product column \n",
        "MTNfinal['PRODUCT'].groupby(MTNfinal['VILLES']).describe()"
      ],
      "execution_count": 45,
      "outputs": [
        {
          "output_type": "execute_result",
          "data": {
            "text/html": [
              "<div>\n",
              "<style scoped>\n",
              "    .dataframe tbody tr th:only-of-type {\n",
              "        vertical-align: middle;\n",
              "    }\n",
              "\n",
              "    .dataframe tbody tr th {\n",
              "        vertical-align: top;\n",
              "    }\n",
              "\n",
              "    .dataframe thead th {\n",
              "        text-align: right;\n",
              "    }\n",
              "</style>\n",
              "<table border=\"1\" class=\"dataframe\">\n",
              "  <thead>\n",
              "    <tr style=\"text-align: right;\">\n",
              "      <th></th>\n",
              "      <th>count</th>\n",
              "      <th>unique</th>\n",
              "      <th>top</th>\n",
              "      <th>freq</th>\n",
              "    </tr>\n",
              "    <tr>\n",
              "      <th>VILLES</th>\n",
              "      <th></th>\n",
              "      <th></th>\n",
              "      <th></th>\n",
              "      <th></th>\n",
              "    </tr>\n",
              "  </thead>\n",
              "  <tbody>\n",
              "    <tr>\n",
              "      <th>ABENGOUROU</th>\n",
              "      <td>49</td>\n",
              "      <td>2</td>\n",
              "      <td>Voice</td>\n",
              "      <td>27</td>\n",
              "    </tr>\n",
              "    <tr>\n",
              "      <th>ABOBO</th>\n",
              "      <td>1670</td>\n",
              "      <td>2</td>\n",
              "      <td>Voice</td>\n",
              "      <td>910</td>\n",
              "    </tr>\n",
              "    <tr>\n",
              "      <th>ABOISSO</th>\n",
              "      <td>20</td>\n",
              "      <td>2</td>\n",
              "      <td>Voice</td>\n",
              "      <td>12</td>\n",
              "    </tr>\n",
              "    <tr>\n",
              "      <th>ABOISSO COMOE</th>\n",
              "      <td>2</td>\n",
              "      <td>1</td>\n",
              "      <td>sms</td>\n",
              "      <td>2</td>\n",
              "    </tr>\n",
              "    <tr>\n",
              "      <th>ADIAKE</th>\n",
              "      <td>2</td>\n",
              "      <td>2</td>\n",
              "      <td>Voice</td>\n",
              "      <td>1</td>\n",
              "    </tr>\n",
              "    <tr>\n",
              "      <th>...</th>\n",
              "      <td>...</td>\n",
              "      <td>...</td>\n",
              "      <td>...</td>\n",
              "      <td>...</td>\n",
              "    </tr>\n",
              "    <tr>\n",
              "      <th>ZADDI</th>\n",
              "      <td>3</td>\n",
              "      <td>1</td>\n",
              "      <td>sms</td>\n",
              "      <td>3</td>\n",
              "    </tr>\n",
              "    <tr>\n",
              "      <th>ZAGNE</th>\n",
              "      <td>1</td>\n",
              "      <td>1</td>\n",
              "      <td>Voice</td>\n",
              "      <td>1</td>\n",
              "    </tr>\n",
              "    <tr>\n",
              "      <th>ZAMBAKRO</th>\n",
              "      <td>2</td>\n",
              "      <td>1</td>\n",
              "      <td>Voice</td>\n",
              "      <td>2</td>\n",
              "    </tr>\n",
              "    <tr>\n",
              "      <th>ZIKISSO</th>\n",
              "      <td>6</td>\n",
              "      <td>2</td>\n",
              "      <td>Voice</td>\n",
              "      <td>3</td>\n",
              "    </tr>\n",
              "    <tr>\n",
              "      <th>ZUENOULA</th>\n",
              "      <td>45</td>\n",
              "      <td>2</td>\n",
              "      <td>Voice</td>\n",
              "      <td>26</td>\n",
              "    </tr>\n",
              "  </tbody>\n",
              "</table>\n",
              "<p>158 rows × 4 columns</p>\n",
              "</div>"
            ],
            "text/plain": [
              "              count unique    top freq\n",
              "VILLES                                \n",
              "ABENGOUROU       49      2  Voice   27\n",
              "ABOBO          1670      2  Voice  910\n",
              "ABOISSO          20      2  Voice   12\n",
              "ABOISSO COMOE     2      1    sms    2\n",
              "ADIAKE            2      2  Voice    1\n",
              "...             ...    ...    ...  ...\n",
              "ZADDI             3      1    sms    3\n",
              "ZAGNE             1      1  Voice    1\n",
              "ZAMBAKRO          2      1  Voice    2\n",
              "ZIKISSO           6      2  Voice    3\n",
              "ZUENOULA         45      2  Voice   26\n",
              "\n",
              "[158 rows x 4 columns]"
            ]
          },
          "metadata": {
            "tags": []
          },
          "execution_count": 45
        }
      ]
    },
    {
      "cell_type": "code",
      "metadata": {
        "colab": {
          "base_uri": "https://localhost:8080/"
        },
        "id": "uX_TeioHzYEi",
        "outputId": "e5f49dca-15e5-437f-e110-cdaf5765bdb3"
      },
      "source": [
        "#Cheking which cities was used the most using the Value column\n",
        "#in description the value column is the billing price so the city with the highest billing price probably had the most users\n",
        "Cityv = MTNfinal['VILLES'].groupby(MTNfinal['VALUE'])\n",
        "MTNfinal\n",
        "\n",
        "# Displaying the max value of the each city\n",
        "Cityv.max().tail()"
      ],
      "execution_count": 46,
      "outputs": [
        {
          "output_type": "execute_result",
          "data": {
            "text/plain": [
              "VALUE\n",
              "1022.0        ZAMBAKRO\n",
              "1036.0     TREICHVILLE\n",
              "1052.0    GRAND-BASSAM\n",
              "2120.0     TREICHVILLE\n",
              "6750.0          COCODY\n",
              "Name: VILLES, dtype: object"
            ]
          },
          "metadata": {
            "tags": []
          },
          "execution_count": 46
        }
      ]
    },
    {
      "cell_type": "code",
      "metadata": {
        "colab": {
          "base_uri": "https://localhost:8080/"
        },
        "id": "7MtN0AVG5tax",
        "outputId": "2c60437d-82bf-411a-f58e-33c9b5730d5e"
      },
      "source": [
        "# Finding which cities were the most used during business and home hours \n",
        "cityh = MTNfinal[\"VILLES\"].groupby(MTNfinal[\"DATETIME\"])\n",
        "MTNfinal\n",
        "\n",
        "#Displaying the most used city during the different hours\n",
        "cityh.max().tail()"
      ],
      "execution_count": 47,
      "outputs": [
        {
          "output_type": "execute_result",
          "data": {
            "text/plain": [
              "DATETIME\n",
              "2012-05-07 00:01:50.0    YOPOUGON\n",
              "2012-05-07 00:01:51.0    YOPOUGON\n",
              "2012-05-07 00:01:52.0    YOPOUGON\n",
              "2012-05-07 00:01:53.0    YOPOUGON\n",
              "2012-05-07 00:01:54.0       ZADDI\n",
              "Name: VILLES, dtype: object"
            ]
          },
          "metadata": {
            "tags": []
          },
          "execution_count": 47
        }
      ]
    },
    {
      "cell_type": "code",
      "metadata": {
        "colab": {
          "base_uri": "https://localhost:8080/"
        },
        "id": "jK6AT0xl9pwp",
        "outputId": "66bdac64-2652-4a08-a0a5-1cece504baf8"
      },
      "source": [
        "#Finding the city with the least cells \n",
        "cityp = MTNfinal[\"VILLES\"].groupby(MTNfinal[\"CELL_ON_SITE\"])\n",
        "MTNfinal\n",
        "\n",
        "#Displaying the city with least cells\n",
        "cityp.min().head()"
      ],
      "execution_count": 48,
      "outputs": [
        {
          "output_type": "execute_result",
          "data": {
            "text/plain": [
              "CELL_ON_SITE\n",
              "0    ABENGOUROU\n",
              "1    ABENGOUROU\n",
              "2    ABENGOUROU\n",
              "3         ABOBO\n",
              "4    ABENGOUROU\n",
              "Name: VILLES, dtype: object"
            ]
          },
          "metadata": {
            "tags": []
          },
          "execution_count": 48
        }
      ]
    },
    {
      "cell_type": "code",
      "metadata": {
        "colab": {
          "base_uri": "https://localhost:8080/"
        },
        "id": "9dSUqgi-A3d3",
        "outputId": "675b4df4-c8cd-4f23-b880-ab16b57fbe4a"
      },
      "source": [
        "#Stats to find the most used city in the three days\n",
        "freq = MTNfinal[\"VILLES\"].value_counts() \n",
        "print(freq)"
      ],
      "execution_count": 49,
      "outputs": [
        {
          "output_type": "stream",
          "text": [
            "YOPOUGON        2430\n",
            "ABOBO           1670\n",
            "ADJAME          1104\n",
            "YAMOUSSOUKRO    1035\n",
            "COCODY           792\n",
            "                ... \n",
            "ALERIA             1\n",
            "ASSINIE            1\n",
            "TANDA              1\n",
            "AKOUYAKRO          1\n",
            "SIFIE              1\n",
            "Name: VILLES, Length: 158, dtype: int64\n"
          ],
          "name": "stdout"
        }
      ]
    },
    {
      "cell_type": "code",
      "metadata": {
        "colab": {
          "base_uri": "https://localhost:8080/",
          "height": 142
        },
        "id": "iOsKlvquEpe6",
        "outputId": "c3e939aa-f64f-4ba6-eca4-479a033712e2"
      },
      "source": [
        "#Which product is the most used in the cities\n",
        "MTNfinal['VILLES'].groupby(MTNfinal['PRODUCT']).describe()"
      ],
      "execution_count": 50,
      "outputs": [
        {
          "output_type": "execute_result",
          "data": {
            "text/html": [
              "<div>\n",
              "<style scoped>\n",
              "    .dataframe tbody tr th:only-of-type {\n",
              "        vertical-align: middle;\n",
              "    }\n",
              "\n",
              "    .dataframe tbody tr th {\n",
              "        vertical-align: top;\n",
              "    }\n",
              "\n",
              "    .dataframe thead th {\n",
              "        text-align: right;\n",
              "    }\n",
              "</style>\n",
              "<table border=\"1\" class=\"dataframe\">\n",
              "  <thead>\n",
              "    <tr style=\"text-align: right;\">\n",
              "      <th></th>\n",
              "      <th>count</th>\n",
              "      <th>unique</th>\n",
              "      <th>top</th>\n",
              "      <th>freq</th>\n",
              "    </tr>\n",
              "    <tr>\n",
              "      <th>PRODUCT</th>\n",
              "      <th></th>\n",
              "      <th></th>\n",
              "      <th></th>\n",
              "      <th></th>\n",
              "    </tr>\n",
              "  </thead>\n",
              "  <tbody>\n",
              "    <tr>\n",
              "      <th>Voice</th>\n",
              "      <td>8164</td>\n",
              "      <td>134</td>\n",
              "      <td>YOPOUGON</td>\n",
              "      <td>1458</td>\n",
              "    </tr>\n",
              "    <tr>\n",
              "      <th>sms</th>\n",
              "      <td>6171</td>\n",
              "      <td>102</td>\n",
              "      <td>YOPOUGON</td>\n",
              "      <td>972</td>\n",
              "    </tr>\n",
              "  </tbody>\n",
              "</table>\n",
              "</div>"
            ],
            "text/plain": [
              "        count unique       top  freq\n",
              "PRODUCT                             \n",
              "Voice    8164    134  YOPOUGON  1458\n",
              "sms      6171    102  YOPOUGON   972"
            ]
          },
          "metadata": {
            "tags": []
          },
          "execution_count": 50
        }
      ]
    },
    {
      "cell_type": "code",
      "metadata": {
        "colab": {
          "base_uri": "https://localhost:8080/"
        },
        "id": "wtwVSaQHY6sa",
        "outputId": "27ea99fe-51e1-47cb-c9ca-f0d649b9e9af"
      },
      "source": [
        "freq = MTNfinal[\"PRODUCT\"].value_counts() \n",
        "print(freq)"
      ],
      "execution_count": 51,
      "outputs": [
        {
          "output_type": "stream",
          "text": [
            "Voice    8164\n",
            "sms      6171\n",
            "Name: PRODUCT, dtype: int64\n"
          ],
          "name": "stdout"
        }
      ]
    }
  ]
}